{
  "nbformat": 4,
  "nbformat_minor": 0,
  "metadata": {
    "colab": {
      "name": "Apurva_Saswadkar_19210067.ipynb",
      "provenance": [],
      "collapsed_sections": []
    },
    "kernelspec": {
      "name": "python3",
      "display_name": "Python 3"
    }
  },
  "cells": [
    {
      "cell_type": "markdown",
      "metadata": {
        "id": "siqzskmwepiX",
        "colab_type": "text"
      },
      "source": [
        "# **Importing Necessary Libraries**"
      ]
    },
    {
      "cell_type": "code",
      "metadata": {
        "id": "ZWJiPKeOPAyg",
        "colab_type": "code",
        "outputId": "50dcfc85-38ac-4506-9933-33dd9155aef4",
        "colab": {
          "base_uri": "https://localhost:8080/",
          "height": 35
        }
      },
      "source": [
        "import pandas as pd\n",
        "import numpy as np\n",
        "from sklearn.model_selection import train_test_split\n",
        "import matplotlib.pyplot as plt\n",
        "\n",
        "from sklearn.multioutput import MultiOutputRegressor\n",
        "from sklearn.ensemble import RandomForestRegressor\n",
        "from sklearn.svm import SVR\n",
        "from tensorflow.python.keras import Sequential\n",
        "from tensorflow.python.keras import layers\n",
        "from tensorflow.python.keras import regularizers\n",
        "\n",
        "from google.colab import drive\n",
        "import os\n",
        "import glob\n",
        "drive.mount('/content/drive/')\n",
        "os.chdir('/content/drive/My Drive/CA684_Assignment/')"
      ],
      "execution_count": 12,
      "outputs": [
        {
          "output_type": "stream",
          "text": [
            "Drive already mounted at /content/drive/; to attempt to forcibly remount, call drive.mount(\"/content/drive/\", force_remount=True).\n"
          ],
          "name": "stdout"
        }
      ]
    },
    {
      "cell_type": "markdown",
      "metadata": {
        "id": "Xr8XbKG8cIej",
        "colab_type": "text"
      },
      "source": [
        "# **Definations**"
      ]
    },
    {
      "cell_type": "code",
      "metadata": {
        "id": "CulsszhyPVid",
        "colab_type": "code",
        "colab": {}
      },
      "source": [
        "def read_C3D(fname):\n",
        "    \"\"\"Scan vectors from file\"\"\"\n",
        "    with open(fname) as f:\n",
        "        for line in f:\n",
        "            C3D =[float(item) for item in line.split()] # convert to float type, using default separator\n",
        "    return C3D"
      ],
      "execution_count": 0,
      "outputs": []
    },
    {
      "cell_type": "code",
      "metadata": {
        "id": "57ldDZVwPcUK",
        "colab_type": "code",
        "colab": {}
      },
      "source": [
        "def Get_score(Y_pred,Y_true):\n",
        "    '''Calculate the Spearmann\"s correlation coefficient'''\n",
        "    lock = True\n",
        "    #x = 0\n",
        "    Y_pred = np.squeeze(Y_pred)\n",
        "    Y_true = np.squeeze(Y_true)\n",
        "    if Y_pred.shape != Y_true.shape:\n",
        "        print('Input shapes don\\'t match!')\n",
        "    else:\n",
        "        if len(Y_pred.shape) == 1:\n",
        "            Res = pd.DataFrame({'Y_true':Y_true,'Y_pred':Y_pred})\n",
        "            score_mat = Res[['Y_true','Y_pred']].corr(method='spearman',min_periods=1)\n",
        "            #print(score_mat)\n",
        "            print('The Spearman\\'s correlation coefficient is: %.3f' % score_mat.iloc[1][0])\n",
        "        else:\n",
        "            for ii in range(Y_pred.shape[1]):\n",
        "                Get_score(Y_pred[:,ii],Y_true[:,ii])"
      ],
      "execution_count": 0,
      "outputs": []
    },
    {
      "cell_type": "markdown",
      "metadata": {
        "id": "U54c8mpnrLZc",
        "colab_type": "text"
      },
      "source": [
        "### **Getting Ground Truth file**"
      ]
    },
    {
      "cell_type": "code",
      "metadata": {
        "id": "y6q9dd0gps68",
        "colab_type": "code",
        "outputId": "4894477e-a880-4510-91fa-9605b763eb98",
        "colab": {
          "base_uri": "https://localhost:8080/",
          "height": 202
        }
      },
      "source": [
        "ground_truth_file = '/content/drive/My Drive/CA684_Assignment/Dev-set/Ground-truth/ground-truth.csv'\n",
        "ground_truth = pd.read_csv(ground_truth_file)\n",
        "ground_truth.head()"
      ],
      "execution_count": 16,
      "outputs": [
        {
          "output_type": "execute_result",
          "data": {
            "text/html": [
              "<div>\n",
              "<style scoped>\n",
              "    .dataframe tbody tr th:only-of-type {\n",
              "        vertical-align: middle;\n",
              "    }\n",
              "\n",
              "    .dataframe tbody tr th {\n",
              "        vertical-align: top;\n",
              "    }\n",
              "\n",
              "    .dataframe thead th {\n",
              "        text-align: right;\n",
              "    }\n",
              "</style>\n",
              "<table border=\"1\" class=\"dataframe\">\n",
              "  <thead>\n",
              "    <tr style=\"text-align: right;\">\n",
              "      <th></th>\n",
              "      <th>video</th>\n",
              "      <th>short-term_memorability</th>\n",
              "      <th>nb_short-term_annotations</th>\n",
              "      <th>long-term_memorability</th>\n",
              "      <th>nb_long-term_annotations</th>\n",
              "    </tr>\n",
              "  </thead>\n",
              "  <tbody>\n",
              "    <tr>\n",
              "      <th>0</th>\n",
              "      <td>video3.webm</td>\n",
              "      <td>0.924</td>\n",
              "      <td>34</td>\n",
              "      <td>0.846</td>\n",
              "      <td>13</td>\n",
              "    </tr>\n",
              "    <tr>\n",
              "      <th>1</th>\n",
              "      <td>video4.webm</td>\n",
              "      <td>0.923</td>\n",
              "      <td>33</td>\n",
              "      <td>0.667</td>\n",
              "      <td>12</td>\n",
              "    </tr>\n",
              "    <tr>\n",
              "      <th>2</th>\n",
              "      <td>video6.webm</td>\n",
              "      <td>0.863</td>\n",
              "      <td>33</td>\n",
              "      <td>0.700</td>\n",
              "      <td>10</td>\n",
              "    </tr>\n",
              "    <tr>\n",
              "      <th>3</th>\n",
              "      <td>video8.webm</td>\n",
              "      <td>0.922</td>\n",
              "      <td>33</td>\n",
              "      <td>0.818</td>\n",
              "      <td>11</td>\n",
              "    </tr>\n",
              "    <tr>\n",
              "      <th>4</th>\n",
              "      <td>video10.webm</td>\n",
              "      <td>0.950</td>\n",
              "      <td>34</td>\n",
              "      <td>0.900</td>\n",
              "      <td>10</td>\n",
              "    </tr>\n",
              "  </tbody>\n",
              "</table>\n",
              "</div>"
            ],
            "text/plain": [
              "          video  ...  nb_long-term_annotations\n",
              "0   video3.webm  ...                        13\n",
              "1   video4.webm  ...                        12\n",
              "2   video6.webm  ...                        10\n",
              "3   video8.webm  ...                        11\n",
              "4  video10.webm  ...                        10\n",
              "\n",
              "[5 rows x 5 columns]"
            ]
          },
          "metadata": {
            "tags": []
          },
          "execution_count": 16
        }
      ]
    },
    {
      "cell_type": "markdown",
      "metadata": {
        "id": "5gqq1QD6rXrj",
        "colab_type": "text"
      },
      "source": [
        "#**Captions**"
      ]
    },
    {
      "cell_type": "markdown",
      "metadata": {
        "id": "fLP4L65ArfHC",
        "colab_type": "text"
      },
      "source": [
        "### **Getting Captions**"
      ]
    },
    {
      "cell_type": "code",
      "metadata": {
        "id": "f1cVcmvJqcEb",
        "colab_type": "code",
        "outputId": "5f582759-2f63-45c9-f241-c8f82df76011",
        "colab": {
          "base_uri": "https://localhost:8080/",
          "height": 202
        }
      },
      "source": [
        "# load labels and captions\n",
        "def read_caps(fname):\n",
        "    \"\"\"Load the captions into a dataframe\"\"\"\n",
        "    vn = []\n",
        "    cap = []\n",
        "    df = pd.DataFrame();\n",
        "    with open(fname) as f:\n",
        "        for line in f:\n",
        "            pairs = line.split()\n",
        "            vn.append(pairs[0])\n",
        "            cap.append(pairs[1])\n",
        "        df['video']=vn\n",
        "        df['caption']=cap\n",
        "    return df\n",
        "\n",
        "\n",
        "# load the captions\n",
        "cap_path = '/content/drive/My Drive/CA684_Assignment/Dev-set/Captions/dev-set_video-captions.txt'\n",
        "df_cap=read_caps(cap_path)\n",
        "df_cap.head()"
      ],
      "execution_count": 17,
      "outputs": [
        {
          "output_type": "execute_result",
          "data": {
            "text/html": [
              "<div>\n",
              "<style scoped>\n",
              "    .dataframe tbody tr th:only-of-type {\n",
              "        vertical-align: middle;\n",
              "    }\n",
              "\n",
              "    .dataframe tbody tr th {\n",
              "        vertical-align: top;\n",
              "    }\n",
              "\n",
              "    .dataframe thead th {\n",
              "        text-align: right;\n",
              "    }\n",
              "</style>\n",
              "<table border=\"1\" class=\"dataframe\">\n",
              "  <thead>\n",
              "    <tr style=\"text-align: right;\">\n",
              "      <th></th>\n",
              "      <th>video</th>\n",
              "      <th>caption</th>\n",
              "    </tr>\n",
              "  </thead>\n",
              "  <tbody>\n",
              "    <tr>\n",
              "      <th>0</th>\n",
              "      <td>video3.webm</td>\n",
              "      <td>blonde-woman-is-massaged-tilt-down</td>\n",
              "    </tr>\n",
              "    <tr>\n",
              "      <th>1</th>\n",
              "      <td>video4.webm</td>\n",
              "      <td>roulette-table-spinning-with-ball-in-closeup-shot</td>\n",
              "    </tr>\n",
              "    <tr>\n",
              "      <th>2</th>\n",
              "      <td>video6.webm</td>\n",
              "      <td>khr-gangsters</td>\n",
              "    </tr>\n",
              "    <tr>\n",
              "      <th>3</th>\n",
              "      <td>video8.webm</td>\n",
              "      <td>medical-helicopter-hovers-at-airport</td>\n",
              "    </tr>\n",
              "    <tr>\n",
              "      <th>4</th>\n",
              "      <td>video10.webm</td>\n",
              "      <td>couple-relaxing-on-picnic-crane-shot</td>\n",
              "    </tr>\n",
              "  </tbody>\n",
              "</table>\n",
              "</div>"
            ],
            "text/plain": [
              "          video                                            caption\n",
              "0   video3.webm                 blonde-woman-is-massaged-tilt-down\n",
              "1   video4.webm  roulette-table-spinning-with-ball-in-closeup-shot\n",
              "2   video6.webm                                      khr-gangsters\n",
              "3   video8.webm               medical-helicopter-hovers-at-airport\n",
              "4  video10.webm               couple-relaxing-on-picnic-crane-shot"
            ]
          },
          "metadata": {
            "tags": []
          },
          "execution_count": 17
        }
      ]
    },
    {
      "cell_type": "markdown",
      "metadata": {
        "id": "zmRXJcYuroUT",
        "colab_type": "text"
      },
      "source": [
        "### **Removing Stopwords from captions**"
      ]
    },
    {
      "cell_type": "code",
      "metadata": {
        "id": "TtPRWyFUqwDo",
        "colab_type": "code",
        "outputId": "25e2b5c3-096c-47c8-b323-06aeb3ac30fd",
        "colab": {
          "base_uri": "https://localhost:8080/",
          "height": 277
        }
      },
      "source": [
        "!pip install PyPrind\n",
        "from string import punctuation\n",
        "import pyprind\n",
        "from collections import Counter\n",
        "import nltk\n",
        "nltk.download(\"stopwords\")\n",
        "from nltk.corpus import stopwords\n",
        "#stopwords = nltk.corpus.stopwords.words('english')\n",
        "stopwords = stopwords.words('english')\n",
        "print(f'Length of Stopwords: {len(stopwords)}')\n",
        "\n",
        "# setup prograss tracker\n",
        "pbar = pyprind.ProgBar(len(df_cap['caption']), title='Counting word occurrences')\n",
        "for i, cap in enumerate(df_cap['caption']):\n",
        "    # replace punctuations with space\n",
        "    # convert words to lower case \n",
        "    text = ''.join([c if c not in punctuation else ' ' for c in cap]).lower()\n",
        "    #removing stopwords\n",
        "    rmv_stopwords= ' '.join([word for word in text.split() if word not in stopwords])\n",
        "    df_cap.loc[i,'caption'] = rmv_stopwords #updating the original captions \n",
        "    pbar.update()\n",
        "\n",
        "print(\"\")\n",
        "print(df_cap.head())\n",
        "print(df_cap.shape)"
      ],
      "execution_count": 18,
      "outputs": [
        {
          "output_type": "stream",
          "text": [
            "Requirement already satisfied: PyPrind in /usr/local/lib/python3.6/dist-packages (2.11.2)\n"
          ],
          "name": "stdout"
        },
        {
          "output_type": "stream",
          "text": [
            "Counting word occurrences\n"
          ],
          "name": "stderr"
        },
        {
          "output_type": "stream",
          "text": [
            "[nltk_data] Downloading package stopwords to /root/nltk_data...\n",
            "[nltk_data]   Package stopwords is already up-to-date!\n",
            "Length of Stopwords: 179\n"
          ],
          "name": "stdout"
        },
        {
          "output_type": "stream",
          "text": [
            "0% [##############################] 100% | ETA: 00:00:00"
          ],
          "name": "stderr"
        },
        {
          "output_type": "stream",
          "text": [
            "\n",
            "          video                                    caption\n",
            "0   video3.webm                 blonde woman massaged tilt\n",
            "1   video4.webm  roulette table spinning ball closeup shot\n",
            "2   video6.webm                              khr gangsters\n",
            "3   video8.webm          medical helicopter hovers airport\n",
            "4  video10.webm          couple relaxing picnic crane shot\n",
            "(6000, 2)\n"
          ],
          "name": "stdout"
        },
        {
          "output_type": "stream",
          "text": [
            "\n",
            "Total time elapsed: 00:00:01\n"
          ],
          "name": "stderr"
        }
      ]
    },
    {
      "cell_type": "markdown",
      "metadata": {
        "id": "KqtI3Op-r0q1",
        "colab_type": "text"
      },
      "source": [
        "### **Implementing models on caption individually**"
      ]
    },
    {
      "cell_type": "markdown",
      "metadata": {
        "id": "UIMbE8uOsB5z",
        "colab_type": "text"
      },
      "source": [
        "**Dividing Dataset into train and test**"
      ]
    },
    {
      "cell_type": "code",
      "metadata": {
        "id": "X9i9xEAHne1k",
        "colab_type": "code",
        "colab": {
          "base_uri": "https://localhost:8080/",
          "height": 121
        },
        "outputId": "e4ec1cc7-a79f-4a1c-8da1-5c3bc894886a"
      },
      "source": [
        "y = ground_truth[['short-term_memorability','long-term_memorability']].values # targets\n",
        "X = X_arrseq\n",
        "X_train, X_test, y_train, y_test = train_test_split(X,y, test_size=0.2, random_state=42) # random state for reproducability\n",
        "print(X.shape)\n",
        "print(y.shape)\n",
        "\n",
        "print('X_train ', X_train.shape)\n",
        "print('X_test  ', X_test.shape)\n",
        "print('Y_train ', y_train.shape)\n",
        "print('Y_test  ', y_test.shape)"
      ],
      "execution_count": 21,
      "outputs": [
        {
          "output_type": "stream",
          "text": [
            "(6000, 5087)\n",
            "(6000, 2)\n",
            "X_train  (4800, 5087)\n",
            "X_test   (1200, 5087)\n",
            "Y_train  (4800, 2)\n",
            "Y_test   (1200, 2)\n"
          ],
          "name": "stdout"
        }
      ]
    },
    {
      "cell_type": "markdown",
      "metadata": {
        "id": "GCV2r6R5sJcb",
        "colab_type": "text"
      },
      "source": [
        "**SVR model on Captions**"
      ]
    },
    {
      "cell_type": "code",
      "metadata": {
        "id": "3Ij8gxDdjYTy",
        "colab_type": "code",
        "outputId": "5063fb12-b73a-40b9-c923-f20c4e534db7",
        "colab": {
          "base_uri": "https://localhost:8080/",
          "height": 52
        }
      },
      "source": [
        "svr = SVR()\n",
        "model = MultiOutputRegressor(estimator=svr)\n",
        "model.fit(X_train,y_train)\n",
        "predictions_cap_svr = model.predict(X_test)\n",
        "Get_score(predictions_cap_svr, y_test)"
      ],
      "execution_count": 22,
      "outputs": [
        {
          "output_type": "stream",
          "text": [
            "The Spearman's correlation coefficient is: 0.421\n",
            "The Spearman's correlation coefficient is: 0.187\n"
          ],
          "name": "stdout"
        }
      ]
    },
    {
      "cell_type": "markdown",
      "metadata": {
        "id": "zpsy-ZpKmFTS",
        "colab_type": "text"
      },
      "source": [
        "**Random Forest on Captions**"
      ]
    },
    {
      "cell_type": "code",
      "metadata": {
        "id": "cdk42uK5ckVs",
        "colab_type": "code",
        "colab": {
          "base_uri": "https://localhost:8080/",
          "height": 69
        },
        "outputId": "6cc71e4c-7f32-42b9-d083-7dd11b7a6690"
      },
      "source": [
        "rf = RandomForestRegressor()\n",
        "model = MultiOutputRegressor(estimator=rf)\n",
        "model.fit(X_train,y_train)\n",
        "print(model.score(X_test,y_test))\n",
        "predictions_cap_rf = model.predict(X_test)\n",
        "Get_score(predictions_cap_rf, y_test)"
      ],
      "execution_count": 23,
      "outputs": [
        {
          "output_type": "stream",
          "text": [
            "0.041584359761635714\n",
            "The Spearman's correlation coefficient is: 0.423\n",
            "The Spearman's correlation coefficient is: 0.186\n"
          ],
          "name": "stdout"
        }
      ]
    },
    {
      "cell_type": "markdown",
      "metadata": {
        "id": "yewJ9iqJmY5P",
        "colab_type": "text"
      },
      "source": [
        "**LASSO on Captions**"
      ]
    },
    {
      "cell_type": "code",
      "metadata": {
        "id": "f42aoBVGntAn",
        "colab_type": "code",
        "colab": {
          "base_uri": "https://localhost:8080/",
          "height": 69
        },
        "outputId": "10f76d24-9fc0-4924-f816-a3ba994844da"
      },
      "source": [
        "from sklearn.linear_model import Lasso\n",
        "ls = Lasso(alpha=1e-5,normalize=True, max_iter=1e5)\n",
        "model = MultiOutputRegressor(estimator=ls)\n",
        "model.fit(X_train,y_train)\n",
        "print(model.score(X_test,y_test))\n",
        "predictions_cap_lasso = model.predict(X_test)\n",
        "Get_score(predictions_cap_lasso, y_test)"
      ],
      "execution_count": 24,
      "outputs": [
        {
          "output_type": "stream",
          "text": [
            "-0.04043569421669718\n",
            "The Spearman's correlation coefficient is: 0.417\n",
            "The Spearman's correlation coefficient is: 0.163\n"
          ],
          "name": "stdout"
        }
      ]
    },
    {
      "cell_type": "markdown",
      "metadata": {
        "id": "0YAD_90otBwf",
        "colab_type": "text"
      },
      "source": [
        "**Taking average of SVR and LASSO for Captions**"
      ]
    },
    {
      "cell_type": "code",
      "metadata": {
        "id": "vGKYI9KEtCEP",
        "colab_type": "code",
        "colab": {
          "base_uri": "https://localhost:8080/",
          "height": 173
        },
        "outputId": "5239732a-759f-4cf5-9fd4-adb25472be88"
      },
      "source": [
        "predictions_weighted_cap  = (1/2)*predictions_cap_svr + (1/2)*predictions_cap_lasso\n",
        "print(predictions_weighted_cap)\n",
        "Get_score(predictions_weighted_cap, y_test)"
      ],
      "execution_count": 25,
      "outputs": [
        {
          "output_type": "stream",
          "text": [
            "[[0.88670645 0.77384876]\n",
            " [0.87507066 0.78874734]\n",
            " [0.88053736 0.85425237]\n",
            " ...\n",
            " [0.88585137 0.87559943]\n",
            " [0.86346641 0.78248466]\n",
            " [0.84789084 0.72888865]]\n",
            "The Spearman's correlation coefficient is: 0.454\n",
            "The Spearman's correlation coefficient is: 0.195\n"
          ],
          "name": "stdout"
        }
      ]
    },
    {
      "cell_type": "markdown",
      "metadata": {
        "id": "KaJh85MZtChD",
        "colab_type": "text"
      },
      "source": [
        "**Taking average of SVR and RF for Captions**"
      ]
    },
    {
      "cell_type": "code",
      "metadata": {
        "id": "WazJWWkKtDME",
        "colab_type": "code",
        "colab": {
          "base_uri": "https://localhost:8080/",
          "height": 173
        },
        "outputId": "74fb075d-7471-4152-bdb8-37cc9368ff98"
      },
      "source": [
        "predictions_weighted_cap1  = (1/2)*predictions_cap_svr + (1/2)*predictions_cap_rf\n",
        "print(predictions_weighted_cap1)\n",
        "Get_score(predictions_weighted_cap1, y_test)"
      ],
      "execution_count": 27,
      "outputs": [
        {
          "output_type": "stream",
          "text": [
            "[[0.84765621 0.77493978]\n",
            " [0.83474412 0.77312901]\n",
            " [0.86508299 0.82831865]\n",
            " ...\n",
            " [0.85941627 0.84926681]\n",
            " [0.87642799 0.79505453]\n",
            " [0.8482377  0.77987116]]\n",
            "The Spearman's correlation coefficient is: 0.454\n",
            "The Spearman's correlation coefficient is: 0.197\n"
          ],
          "name": "stdout"
        }
      ]
    },
    {
      "cell_type": "markdown",
      "metadata": {
        "id": "8XkIGToOxGSe",
        "colab_type": "text"
      },
      "source": [
        "**Taking average of LASSO and RF for Captions**"
      ]
    },
    {
      "cell_type": "code",
      "metadata": {
        "id": "UO1zL_ADxGjJ",
        "colab_type": "code",
        "colab": {
          "base_uri": "https://localhost:8080/",
          "height": 173
        },
        "outputId": "8f4010c5-7105-4819-c62e-621e9dc41944"
      },
      "source": [
        "predictions_weighted_cap2  = (1/2)*predictions_cap_lasso + (1/2)*predictions_cap_rf\n",
        "print(predictions_weighted_cap2)\n",
        "Get_score(predictions_weighted_cap2, y_test)"
      ],
      "execution_count": 28,
      "outputs": [
        {
          "output_type": "stream",
          "text": [
            "[[0.88114514 0.78716231]\n",
            " [0.84846321 0.75499497]\n",
            " [0.89256998 0.85149015]\n",
            " ...\n",
            " [0.8933554  0.90626728]\n",
            " [0.88046275 0.7858693 ]\n",
            " [0.86600345 0.76124749]]\n",
            "The Spearman's correlation coefficient is: 0.449\n",
            "The Spearman's correlation coefficient is: 0.191\n"
          ],
          "name": "stdout"
        }
      ]
    },
    {
      "cell_type": "markdown",
      "metadata": {
        "id": "Yy0KQ-bGxGyy",
        "colab_type": "text"
      },
      "source": [
        "**Taking average of SVR,LASSO and RF for Captions**"
      ]
    },
    {
      "cell_type": "code",
      "metadata": {
        "id": "89SUBmCrxHDI",
        "colab_type": "code",
        "colab": {
          "base_uri": "https://localhost:8080/",
          "height": 173
        },
        "outputId": "f1f3344b-a507-4236-b29a-d291e2c4d32c"
      },
      "source": [
        "predictions_weighted_cap3  = (1/3)*predictions_cap_svr + (1/3)*predictions_cap_rf + (1/3)*predictions_cap_lasso\n",
        "print(predictions_weighted_cap3)\n",
        "Get_score(predictions_weighted_cap3, y_test)"
      ],
      "execution_count": 29,
      "outputs": [
        {
          "output_type": "stream",
          "text": [
            "[[0.87183593 0.77865028]\n",
            " [0.85275933 0.77229044]\n",
            " [0.87939678 0.84468706]\n",
            " ...\n",
            " [0.87954102 0.87704451]\n",
            " [0.87345238 0.78780283]\n",
            " [0.854044   0.7566691 ]]\n",
            "The Spearman's correlation coefficient is: 0.465\n",
            "The Spearman's correlation coefficient is: 0.201\n"
          ],
          "name": "stdout"
        }
      ]
    },
    {
      "cell_type": "markdown",
      "metadata": {
        "id": "GiEpL9PcjLHa",
        "colab_type": "text"
      },
      "source": [
        "#**C3D**"
      ]
    },
    {
      "cell_type": "markdown",
      "metadata": {
        "id": "dNw8dEjycb6R",
        "colab_type": "text"
      },
      "source": [
        "### **Getting C3D Features and preprocessing**"
      ]
    },
    {
      "cell_type": "code",
      "metadata": {
        "id": "t2H3wzcjWu_A",
        "colab_type": "code",
        "colab": {}
      },
      "source": [
        "os.chdir('/content/drive/My Drive/CA684_Assignment/Dev-set/')"
      ],
      "execution_count": 0,
      "outputs": []
    },
    {
      "cell_type": "code",
      "metadata": {
        "id": "LsWVWIO7WIPj",
        "colab_type": "code",
        "colab": {
          "base_uri": "https://localhost:8080/",
          "height": 338
        },
        "outputId": "38f9d894-a7c2-4c32-94b2-f343d7763593"
      },
      "source": [
        "C3D_data = []\n",
        "entries = os.listdir('/content/drive/My Drive/CA684_Assignment/Dev-set/C3D/')\n",
        "\n",
        "for entry in entries:\n",
        "  #print(entry)\n",
        "  example_inception_path = '/content/drive/My Drive/CA684_Assignment/Dev-set/C3D/'+entry\n",
        "  txt_data = pd.read_csv(example_inception_path, sep=\" \", header=None)\n",
        "  C3D_data.append(txt_data)\n",
        "C3D_features = pd.concat(C3D_data)\n",
        "C3D_features = C3D_features.drop(columns=[101])\n",
        "C3D_features.head()"
      ],
      "execution_count": 33,
      "outputs": [
        {
          "output_type": "execute_result",
          "data": {
            "text/html": [
              "<div>\n",
              "<style scoped>\n",
              "    .dataframe tbody tr th:only-of-type {\n",
              "        vertical-align: middle;\n",
              "    }\n",
              "\n",
              "    .dataframe tbody tr th {\n",
              "        vertical-align: top;\n",
              "    }\n",
              "\n",
              "    .dataframe thead th {\n",
              "        text-align: right;\n",
              "    }\n",
              "</style>\n",
              "<table border=\"1\" class=\"dataframe\">\n",
              "  <thead>\n",
              "    <tr style=\"text-align: right;\">\n",
              "      <th></th>\n",
              "      <th>0</th>\n",
              "      <th>1</th>\n",
              "      <th>2</th>\n",
              "      <th>3</th>\n",
              "      <th>4</th>\n",
              "      <th>5</th>\n",
              "      <th>6</th>\n",
              "      <th>7</th>\n",
              "      <th>8</th>\n",
              "      <th>9</th>\n",
              "      <th>10</th>\n",
              "      <th>11</th>\n",
              "      <th>12</th>\n",
              "      <th>13</th>\n",
              "      <th>14</th>\n",
              "      <th>15</th>\n",
              "      <th>16</th>\n",
              "      <th>17</th>\n",
              "      <th>18</th>\n",
              "      <th>19</th>\n",
              "      <th>20</th>\n",
              "      <th>21</th>\n",
              "      <th>22</th>\n",
              "      <th>23</th>\n",
              "      <th>24</th>\n",
              "      <th>25</th>\n",
              "      <th>26</th>\n",
              "      <th>27</th>\n",
              "      <th>28</th>\n",
              "      <th>29</th>\n",
              "      <th>30</th>\n",
              "      <th>31</th>\n",
              "      <th>32</th>\n",
              "      <th>33</th>\n",
              "      <th>34</th>\n",
              "      <th>35</th>\n",
              "      <th>36</th>\n",
              "      <th>37</th>\n",
              "      <th>38</th>\n",
              "      <th>39</th>\n",
              "      <th>...</th>\n",
              "      <th>61</th>\n",
              "      <th>62</th>\n",
              "      <th>63</th>\n",
              "      <th>64</th>\n",
              "      <th>65</th>\n",
              "      <th>66</th>\n",
              "      <th>67</th>\n",
              "      <th>68</th>\n",
              "      <th>69</th>\n",
              "      <th>70</th>\n",
              "      <th>71</th>\n",
              "      <th>72</th>\n",
              "      <th>73</th>\n",
              "      <th>74</th>\n",
              "      <th>75</th>\n",
              "      <th>76</th>\n",
              "      <th>77</th>\n",
              "      <th>78</th>\n",
              "      <th>79</th>\n",
              "      <th>80</th>\n",
              "      <th>81</th>\n",
              "      <th>82</th>\n",
              "      <th>83</th>\n",
              "      <th>84</th>\n",
              "      <th>85</th>\n",
              "      <th>86</th>\n",
              "      <th>87</th>\n",
              "      <th>88</th>\n",
              "      <th>89</th>\n",
              "      <th>90</th>\n",
              "      <th>91</th>\n",
              "      <th>92</th>\n",
              "      <th>93</th>\n",
              "      <th>94</th>\n",
              "      <th>95</th>\n",
              "      <th>96</th>\n",
              "      <th>97</th>\n",
              "      <th>98</th>\n",
              "      <th>99</th>\n",
              "      <th>100</th>\n",
              "    </tr>\n",
              "  </thead>\n",
              "  <tbody>\n",
              "    <tr>\n",
              "      <th>0</th>\n",
              "      <td>0.010858</td>\n",
              "      <td>0.010386</td>\n",
              "      <td>0.000000</td>\n",
              "      <td>0.000000e+00</td>\n",
              "      <td>0.000000e+00</td>\n",
              "      <td>0.000000</td>\n",
              "      <td>2.700000e-07</td>\n",
              "      <td>0.000000</td>\n",
              "      <td>1.000000e-08</td>\n",
              "      <td>3.400000e-07</td>\n",
              "      <td>8.000000e-08</td>\n",
              "      <td>1.000000e-08</td>\n",
              "      <td>0.000004</td>\n",
              "      <td>0.000105</td>\n",
              "      <td>0.000000e+00</td>\n",
              "      <td>4.000000e-08</td>\n",
              "      <td>1.000000e-08</td>\n",
              "      <td>0.000000</td>\n",
              "      <td>0.000000</td>\n",
              "      <td>1.331800e-04</td>\n",
              "      <td>0.000000e+00</td>\n",
              "      <td>0.000000</td>\n",
              "      <td>0.000000e+00</td>\n",
              "      <td>0.000000e+00</td>\n",
              "      <td>7.600000e-07</td>\n",
              "      <td>0.000000</td>\n",
              "      <td>9.800000e-07</td>\n",
              "      <td>0.000000e+00</td>\n",
              "      <td>0.000000</td>\n",
              "      <td>0.000000e+00</td>\n",
              "      <td>0.000000</td>\n",
              "      <td>0.000000</td>\n",
              "      <td>6.000000e-08</td>\n",
              "      <td>0.000021</td>\n",
              "      <td>5.000000e-08</td>\n",
              "      <td>0.000000e+00</td>\n",
              "      <td>1.000000e-08</td>\n",
              "      <td>3.000000e-08</td>\n",
              "      <td>2.000000e-08</td>\n",
              "      <td>0.000000e+00</td>\n",
              "      <td>...</td>\n",
              "      <td>0.001623</td>\n",
              "      <td>0.970125</td>\n",
              "      <td>0.000016</td>\n",
              "      <td>0.001298</td>\n",
              "      <td>0.000032</td>\n",
              "      <td>0.000001</td>\n",
              "      <td>0.000000</td>\n",
              "      <td>0.000000</td>\n",
              "      <td>1.000000e-08</td>\n",
              "      <td>2.500000e-07</td>\n",
              "      <td>0.000000e+00</td>\n",
              "      <td>0.000000</td>\n",
              "      <td>5.000000e-08</td>\n",
              "      <td>0.000000</td>\n",
              "      <td>1.000000e-08</td>\n",
              "      <td>1.000000e-08</td>\n",
              "      <td>4.200000e-07</td>\n",
              "      <td>0.000000e+00</td>\n",
              "      <td>3.000000e-08</td>\n",
              "      <td>2.000000e-08</td>\n",
              "      <td>0.000000</td>\n",
              "      <td>0.000000</td>\n",
              "      <td>0.000000</td>\n",
              "      <td>6.000000e-08</td>\n",
              "      <td>0.000000</td>\n",
              "      <td>0.000000</td>\n",
              "      <td>9.000000e-08</td>\n",
              "      <td>0.000000</td>\n",
              "      <td>0.000000e+00</td>\n",
              "      <td>1.100000e-07</td>\n",
              "      <td>1.400000e-07</td>\n",
              "      <td>0.000000</td>\n",
              "      <td>0.000000</td>\n",
              "      <td>1.700000e-07</td>\n",
              "      <td>0.000000</td>\n",
              "      <td>0.000000e+00</td>\n",
              "      <td>1.000000e-08</td>\n",
              "      <td>1.300000e-06</td>\n",
              "      <td>2.600000e-06</td>\n",
              "      <td>8.000000e-08</td>\n",
              "    </tr>\n",
              "    <tr>\n",
              "      <th>0</th>\n",
              "      <td>0.000200</td>\n",
              "      <td>0.000065</td>\n",
              "      <td>0.993807</td>\n",
              "      <td>2.000000e-07</td>\n",
              "      <td>4.700000e-07</td>\n",
              "      <td>0.000073</td>\n",
              "      <td>3.700000e-06</td>\n",
              "      <td>0.000337</td>\n",
              "      <td>6.710000e-06</td>\n",
              "      <td>2.290000e-06</td>\n",
              "      <td>6.380000e-06</td>\n",
              "      <td>7.340000e-06</td>\n",
              "      <td>0.000019</td>\n",
              "      <td>0.000007</td>\n",
              "      <td>3.240000e-06</td>\n",
              "      <td>3.810000e-06</td>\n",
              "      <td>1.411000e-05</td>\n",
              "      <td>0.000001</td>\n",
              "      <td>0.000003</td>\n",
              "      <td>2.300000e-07</td>\n",
              "      <td>1.900000e-07</td>\n",
              "      <td>0.002938</td>\n",
              "      <td>5.200000e-07</td>\n",
              "      <td>9.200000e-07</td>\n",
              "      <td>1.136000e-05</td>\n",
              "      <td>0.000011</td>\n",
              "      <td>3.310400e-04</td>\n",
              "      <td>9.200000e-07</td>\n",
              "      <td>0.000022</td>\n",
              "      <td>8.000000e-08</td>\n",
              "      <td>0.000028</td>\n",
              "      <td>0.000013</td>\n",
              "      <td>5.778000e-05</td>\n",
              "      <td>0.000037</td>\n",
              "      <td>1.683000e-05</td>\n",
              "      <td>6.860000e-06</td>\n",
              "      <td>3.990000e-06</td>\n",
              "      <td>8.030000e-06</td>\n",
              "      <td>1.450000e-06</td>\n",
              "      <td>3.800000e-07</td>\n",
              "      <td>...</td>\n",
              "      <td>0.000045</td>\n",
              "      <td>0.000027</td>\n",
              "      <td>0.000013</td>\n",
              "      <td>0.000077</td>\n",
              "      <td>0.000050</td>\n",
              "      <td>0.000138</td>\n",
              "      <td>0.000012</td>\n",
              "      <td>0.000007</td>\n",
              "      <td>4.100000e-07</td>\n",
              "      <td>5.440000e-06</td>\n",
              "      <td>3.400000e-07</td>\n",
              "      <td>0.000007</td>\n",
              "      <td>8.399000e-05</td>\n",
              "      <td>0.000004</td>\n",
              "      <td>3.970000e-06</td>\n",
              "      <td>5.900000e-07</td>\n",
              "      <td>1.285300e-04</td>\n",
              "      <td>8.800000e-07</td>\n",
              "      <td>2.228000e-05</td>\n",
              "      <td>1.105000e-05</td>\n",
              "      <td>0.000003</td>\n",
              "      <td>0.000015</td>\n",
              "      <td>0.000014</td>\n",
              "      <td>4.090000e-06</td>\n",
              "      <td>0.000003</td>\n",
              "      <td>0.000005</td>\n",
              "      <td>4.920000e-06</td>\n",
              "      <td>0.000005</td>\n",
              "      <td>6.400000e-07</td>\n",
              "      <td>2.372000e-05</td>\n",
              "      <td>6.610000e-06</td>\n",
              "      <td>0.000010</td>\n",
              "      <td>0.000002</td>\n",
              "      <td>5.800000e-06</td>\n",
              "      <td>0.000001</td>\n",
              "      <td>1.490000e-06</td>\n",
              "      <td>1.170000e-05</td>\n",
              "      <td>1.500000e-07</td>\n",
              "      <td>8.300000e-07</td>\n",
              "      <td>1.060000e-04</td>\n",
              "    </tr>\n",
              "    <tr>\n",
              "      <th>0</th>\n",
              "      <td>0.000000</td>\n",
              "      <td>0.000000</td>\n",
              "      <td>0.000000</td>\n",
              "      <td>0.000000e+00</td>\n",
              "      <td>0.000000e+00</td>\n",
              "      <td>0.000000</td>\n",
              "      <td>0.000000e+00</td>\n",
              "      <td>0.000000</td>\n",
              "      <td>0.000000e+00</td>\n",
              "      <td>0.000000e+00</td>\n",
              "      <td>0.000000e+00</td>\n",
              "      <td>0.000000e+00</td>\n",
              "      <td>0.000000</td>\n",
              "      <td>0.000000</td>\n",
              "      <td>0.000000e+00</td>\n",
              "      <td>0.000000e+00</td>\n",
              "      <td>0.000000e+00</td>\n",
              "      <td>0.000000</td>\n",
              "      <td>0.000000</td>\n",
              "      <td>0.000000e+00</td>\n",
              "      <td>0.000000e+00</td>\n",
              "      <td>0.000008</td>\n",
              "      <td>0.000000e+00</td>\n",
              "      <td>0.000000e+00</td>\n",
              "      <td>0.000000e+00</td>\n",
              "      <td>0.000000</td>\n",
              "      <td>0.000000e+00</td>\n",
              "      <td>0.000000e+00</td>\n",
              "      <td>0.000000</td>\n",
              "      <td>0.000000e+00</td>\n",
              "      <td>0.000000</td>\n",
              "      <td>0.000000</td>\n",
              "      <td>0.000000e+00</td>\n",
              "      <td>0.000000</td>\n",
              "      <td>0.000000e+00</td>\n",
              "      <td>0.000000e+00</td>\n",
              "      <td>0.000000e+00</td>\n",
              "      <td>0.000000e+00</td>\n",
              "      <td>0.000000e+00</td>\n",
              "      <td>0.000000e+00</td>\n",
              "      <td>...</td>\n",
              "      <td>0.000000</td>\n",
              "      <td>0.000000</td>\n",
              "      <td>0.000000</td>\n",
              "      <td>0.000000</td>\n",
              "      <td>0.000000</td>\n",
              "      <td>0.000000</td>\n",
              "      <td>0.000000</td>\n",
              "      <td>0.000000</td>\n",
              "      <td>0.000000e+00</td>\n",
              "      <td>0.000000e+00</td>\n",
              "      <td>0.000000e+00</td>\n",
              "      <td>0.000000</td>\n",
              "      <td>0.000000e+00</td>\n",
              "      <td>0.000000</td>\n",
              "      <td>0.000000e+00</td>\n",
              "      <td>0.000000e+00</td>\n",
              "      <td>0.000000e+00</td>\n",
              "      <td>0.000000e+00</td>\n",
              "      <td>0.000000e+00</td>\n",
              "      <td>0.000000e+00</td>\n",
              "      <td>0.000000</td>\n",
              "      <td>0.999985</td>\n",
              "      <td>0.000000</td>\n",
              "      <td>0.000000e+00</td>\n",
              "      <td>0.000000</td>\n",
              "      <td>0.000000</td>\n",
              "      <td>0.000000e+00</td>\n",
              "      <td>0.000000</td>\n",
              "      <td>0.000000e+00</td>\n",
              "      <td>0.000000e+00</td>\n",
              "      <td>0.000000e+00</td>\n",
              "      <td>0.000000</td>\n",
              "      <td>0.000000</td>\n",
              "      <td>0.000000e+00</td>\n",
              "      <td>0.000000</td>\n",
              "      <td>0.000000e+00</td>\n",
              "      <td>0.000000e+00</td>\n",
              "      <td>0.000000e+00</td>\n",
              "      <td>0.000000e+00</td>\n",
              "      <td>7.120000e-06</td>\n",
              "    </tr>\n",
              "    <tr>\n",
              "      <th>0</th>\n",
              "      <td>0.005959</td>\n",
              "      <td>0.004765</td>\n",
              "      <td>0.003757</td>\n",
              "      <td>5.787100e-04</td>\n",
              "      <td>7.344000e-05</td>\n",
              "      <td>0.000129</td>\n",
              "      <td>4.665300e-04</td>\n",
              "      <td>0.010266</td>\n",
              "      <td>3.028100e-04</td>\n",
              "      <td>2.196500e-04</td>\n",
              "      <td>2.521800e-04</td>\n",
              "      <td>2.963730e-03</td>\n",
              "      <td>0.000032</td>\n",
              "      <td>0.000592</td>\n",
              "      <td>3.260000e-05</td>\n",
              "      <td>1.466430e-03</td>\n",
              "      <td>2.430700e-04</td>\n",
              "      <td>0.000181</td>\n",
              "      <td>0.004019</td>\n",
              "      <td>2.390960e-03</td>\n",
              "      <td>1.206900e-04</td>\n",
              "      <td>0.008488</td>\n",
              "      <td>5.216200e-04</td>\n",
              "      <td>4.164600e-04</td>\n",
              "      <td>1.643420e-02</td>\n",
              "      <td>0.049686</td>\n",
              "      <td>1.470550e-03</td>\n",
              "      <td>5.432000e-05</td>\n",
              "      <td>0.001055</td>\n",
              "      <td>5.442770e-03</td>\n",
              "      <td>0.000173</td>\n",
              "      <td>0.024688</td>\n",
              "      <td>9.640700e-04</td>\n",
              "      <td>0.000880</td>\n",
              "      <td>1.140529e-02</td>\n",
              "      <td>4.522160e-03</td>\n",
              "      <td>8.594500e-04</td>\n",
              "      <td>6.573000e-04</td>\n",
              "      <td>6.942400e-04</td>\n",
              "      <td>1.823110e-03</td>\n",
              "      <td>...</td>\n",
              "      <td>0.021621</td>\n",
              "      <td>0.000639</td>\n",
              "      <td>0.014109</td>\n",
              "      <td>0.000472</td>\n",
              "      <td>0.002461</td>\n",
              "      <td>0.004046</td>\n",
              "      <td>0.000905</td>\n",
              "      <td>0.000997</td>\n",
              "      <td>2.514660e-03</td>\n",
              "      <td>1.587440e-03</td>\n",
              "      <td>1.125030e-03</td>\n",
              "      <td>0.001008</td>\n",
              "      <td>2.133877e-02</td>\n",
              "      <td>0.000647</td>\n",
              "      <td>1.373010e-03</td>\n",
              "      <td>9.568000e-05</td>\n",
              "      <td>5.635083e-02</td>\n",
              "      <td>1.628000e-05</td>\n",
              "      <td>5.379910e-03</td>\n",
              "      <td>6.020020e-03</td>\n",
              "      <td>0.046499</td>\n",
              "      <td>0.023942</td>\n",
              "      <td>0.020658</td>\n",
              "      <td>3.349520e-03</td>\n",
              "      <td>0.002637</td>\n",
              "      <td>0.000094</td>\n",
              "      <td>1.170705e-02</td>\n",
              "      <td>0.000229</td>\n",
              "      <td>9.789210e-03</td>\n",
              "      <td>2.764390e-03</td>\n",
              "      <td>8.052350e-03</td>\n",
              "      <td>0.003992</td>\n",
              "      <td>0.004137</td>\n",
              "      <td>3.670390e-02</td>\n",
              "      <td>0.000767</td>\n",
              "      <td>3.692100e-04</td>\n",
              "      <td>1.251980e-02</td>\n",
              "      <td>8.422000e-05</td>\n",
              "      <td>1.159825e-02</td>\n",
              "      <td>1.155040e-03</td>\n",
              "    </tr>\n",
              "    <tr>\n",
              "      <th>0</th>\n",
              "      <td>0.005782</td>\n",
              "      <td>0.000306</td>\n",
              "      <td>0.004011</td>\n",
              "      <td>1.007000e-05</td>\n",
              "      <td>1.034000e-05</td>\n",
              "      <td>0.000002</td>\n",
              "      <td>3.160000e-06</td>\n",
              "      <td>0.000003</td>\n",
              "      <td>1.984000e-05</td>\n",
              "      <td>5.750000e-06</td>\n",
              "      <td>6.642000e-05</td>\n",
              "      <td>6.690000e-06</td>\n",
              "      <td>0.000301</td>\n",
              "      <td>0.004799</td>\n",
              "      <td>2.800000e-07</td>\n",
              "      <td>1.669000e-05</td>\n",
              "      <td>2.670000e-06</td>\n",
              "      <td>0.000001</td>\n",
              "      <td>0.000011</td>\n",
              "      <td>6.526000e-05</td>\n",
              "      <td>3.100000e-07</td>\n",
              "      <td>0.000036</td>\n",
              "      <td>1.400000e-06</td>\n",
              "      <td>6.260000e-06</td>\n",
              "      <td>1.750103e-02</td>\n",
              "      <td>0.000019</td>\n",
              "      <td>1.190515e-02</td>\n",
              "      <td>4.450000e-06</td>\n",
              "      <td>0.000005</td>\n",
              "      <td>2.387000e-05</td>\n",
              "      <td>0.000007</td>\n",
              "      <td>0.000035</td>\n",
              "      <td>3.630000e-06</td>\n",
              "      <td>0.667420</td>\n",
              "      <td>3.482400e-04</td>\n",
              "      <td>1.900000e-07</td>\n",
              "      <td>1.121000e-05</td>\n",
              "      <td>6.830000e-06</td>\n",
              "      <td>1.837600e-04</td>\n",
              "      <td>1.250000e-06</td>\n",
              "      <td>...</td>\n",
              "      <td>0.068799</td>\n",
              "      <td>0.005818</td>\n",
              "      <td>0.000535</td>\n",
              "      <td>0.001711</td>\n",
              "      <td>0.112263</td>\n",
              "      <td>0.000408</td>\n",
              "      <td>0.000035</td>\n",
              "      <td>0.000267</td>\n",
              "      <td>5.395000e-05</td>\n",
              "      <td>3.899000e-05</td>\n",
              "      <td>3.619000e-05</td>\n",
              "      <td>0.000321</td>\n",
              "      <td>4.550900e-04</td>\n",
              "      <td>0.000002</td>\n",
              "      <td>6.200000e-06</td>\n",
              "      <td>7.510000e-06</td>\n",
              "      <td>7.971920e-03</td>\n",
              "      <td>7.000000e-08</td>\n",
              "      <td>1.873000e-05</td>\n",
              "      <td>1.511100e-04</td>\n",
              "      <td>0.000011</td>\n",
              "      <td>0.000398</td>\n",
              "      <td>0.000001</td>\n",
              "      <td>4.090000e-06</td>\n",
              "      <td>0.000004</td>\n",
              "      <td>0.000005</td>\n",
              "      <td>2.080000e-06</td>\n",
              "      <td>0.000001</td>\n",
              "      <td>1.651800e-04</td>\n",
              "      <td>2.738000e-05</td>\n",
              "      <td>2.106000e-05</td>\n",
              "      <td>0.000002</td>\n",
              "      <td>0.000004</td>\n",
              "      <td>6.818350e-03</td>\n",
              "      <td>0.000005</td>\n",
              "      <td>5.000000e-08</td>\n",
              "      <td>2.088000e-05</td>\n",
              "      <td>1.271750e-03</td>\n",
              "      <td>4.862200e-04</td>\n",
              "      <td>1.965000e-05</td>\n",
              "    </tr>\n",
              "  </tbody>\n",
              "</table>\n",
              "<p>5 rows × 101 columns</p>\n",
              "</div>"
            ],
            "text/plain": [
              "        0         1         2    ...           98            99            100\n",
              "0  0.010858  0.010386  0.000000  ...  1.300000e-06  2.600000e-06  8.000000e-08\n",
              "0  0.000200  0.000065  0.993807  ...  1.500000e-07  8.300000e-07  1.060000e-04\n",
              "0  0.000000  0.000000  0.000000  ...  0.000000e+00  0.000000e+00  7.120000e-06\n",
              "0  0.005959  0.004765  0.003757  ...  8.422000e-05  1.159825e-02  1.155040e-03\n",
              "0  0.005782  0.000306  0.004011  ...  1.271750e-03  4.862200e-04  1.965000e-05\n",
              "\n",
              "[5 rows x 101 columns]"
            ]
          },
          "metadata": {
            "tags": []
          },
          "execution_count": 33
        }
      ]
    },
    {
      "cell_type": "code",
      "metadata": {
        "id": "3dMOq_zFuB_r",
        "colab_type": "code",
        "colab": {
          "base_uri": "https://localhost:8080/",
          "height": 260
        },
        "outputId": "1e9e90e4-ce3a-4215-e361-91ea5c9bb898"
      },
      "source": [
        "C3D_feature = C3D_features.values\n",
        "print(C3D_feature)\n",
        "print(C3D_feature.shape)"
      ],
      "execution_count": 36,
      "outputs": [
        {
          "output_type": "stream",
          "text": [
            "[[1.0857670e-02 1.0386330e-02 0.0000000e+00 ... 1.3000000e-06\n",
            "  2.6000000e-06 8.0000000e-08]\n",
            " [1.9951000e-04 6.4940000e-05 9.9380690e-01 ... 1.5000000e-07\n",
            "  8.3000000e-07 1.0600000e-04]\n",
            " [0.0000000e+00 0.0000000e+00 0.0000000e+00 ... 0.0000000e+00\n",
            "  0.0000000e+00 7.1200000e-06]\n",
            " ...\n",
            " [3.0822000e-04 2.0097560e-02 2.0226000e-04 ... 1.0275000e-04\n",
            "  4.0909850e-02 4.4673800e-03]\n",
            " [1.0868380e-02 9.4189000e-04 6.6393300e-03 ... 2.6109700e-02\n",
            "  1.9424398e-01 6.3640000e-05]\n",
            " [1.6464800e-03 7.2505000e-04 1.3462000e-04 ... 6.5269600e-03\n",
            "  5.7053000e-04 4.9473000e-03]]\n",
            "(6000, 101)\n"
          ],
          "name": "stdout"
        }
      ]
    },
    {
      "cell_type": "markdown",
      "metadata": {
        "id": "-gnH5xAXIBc4",
        "colab_type": "text"
      },
      "source": [
        "**Splitting C3D data into test and train**"
      ]
    },
    {
      "cell_type": "code",
      "metadata": {
        "id": "P2mNvQ3sDe-2",
        "colab_type": "code",
        "outputId": "d2bd6507-c40e-47e1-8547-8383ad3effaf",
        "colab": {
          "base_uri": "https://localhost:8080/",
          "height": 35
        }
      },
      "source": [
        "y = ground_truth[['short-term_memorability','long-term_memorability']].values # targets\n",
        "X = C3D_feature\n",
        "X_train, X_test, y_train, y_test = train_test_split(X,y, test_size=0.2, random_state=42) # random state for reproducability\n",
        "print(len(X_train[0]))"
      ],
      "execution_count": 37,
      "outputs": [
        {
          "output_type": "stream",
          "text": [
            "101\n"
          ],
          "name": "stdout"
        }
      ]
    },
    {
      "cell_type": "markdown",
      "metadata": {
        "id": "8gWo3Eg8dAzF",
        "colab_type": "text"
      },
      "source": [
        "### **Implementing models on C3D individually**"
      ]
    },
    {
      "cell_type": "markdown",
      "metadata": {
        "id": "pYc_LHh1IK9H",
        "colab_type": "text"
      },
      "source": [
        "**Forest on C3D Features**"
      ]
    },
    {
      "cell_type": "code",
      "metadata": {
        "id": "GQSJTT6LE48g",
        "colab_type": "code",
        "outputId": "9c32d0ab-1b6b-4c49-89d0-65ef00bea027",
        "colab": {
          "base_uri": "https://localhost:8080/",
          "height": 52
        }
      },
      "source": [
        "rf = RandomForestRegressor(n_estimators=200)\n",
        "model = MultiOutputRegressor(estimator=rf)\n",
        "model.fit(X_train,y_train)\n",
        "#print(model.score(X_test,y_test))\n",
        "predictions_c3d_rf = model.predict(X_test)\n",
        "Get_score(predictions_c3d_rf, y_test)"
      ],
      "execution_count": 38,
      "outputs": [
        {
          "output_type": "stream",
          "text": [
            "The Spearman's correlation coefficient is: 0.015\n",
            "The Spearman's correlation coefficient is: 0.033\n"
          ],
          "name": "stdout"
        }
      ]
    },
    {
      "cell_type": "markdown",
      "metadata": {
        "id": "kfKayGLLIWV0",
        "colab_type": "text"
      },
      "source": [
        "**SVR on C3D Features**"
      ]
    },
    {
      "cell_type": "code",
      "metadata": {
        "id": "rR7l8htlGcw2",
        "colab_type": "code",
        "outputId": "bb9e3258-90ac-4cf4-dd3a-25a472eb63c0",
        "colab": {
          "base_uri": "https://localhost:8080/",
          "height": 52
        }
      },
      "source": [
        "svr = SVR(C=0.0005, epsilon=0.2)\n",
        "model = MultiOutputRegressor(estimator=svr)\n",
        "model.fit(X_train,y_train)\n",
        "#print(model.score(X_test,y_test))\n",
        "predictions_c3d_svr = model.predict(X_test)\n",
        "Get_score(predictions_c3d_svr, y_test)"
      ],
      "execution_count": 39,
      "outputs": [
        {
          "output_type": "stream",
          "text": [
            "The Spearman's correlation coefficient is: 0.038\n",
            "The Spearman's correlation coefficient is: 0.019\n"
          ],
          "name": "stdout"
        }
      ]
    },
    {
      "cell_type": "markdown",
      "metadata": {
        "id": "cNFdYsilNxKD",
        "colab_type": "text"
      },
      "source": [
        "**LASSO on C3D Features**"
      ]
    },
    {
      "cell_type": "code",
      "metadata": {
        "id": "z_gF09dDNwGZ",
        "colab_type": "code",
        "outputId": "0164f465-d9f3-4909-f1e4-2b209d09423b",
        "colab": {
          "base_uri": "https://localhost:8080/",
          "height": 69
        }
      },
      "source": [
        "from sklearn.linear_model import Lasso\n",
        "ls = Lasso(alpha=1e-5,normalize=True, max_iter=1e5)\n",
        "model = MultiOutputRegressor(estimator=ls)\n",
        "model.fit(X_train,y_train)\n",
        "print(model.score(X_test,y_test))\n",
        "predictions_c3d_lasso = model.predict(X_test)\n",
        "Get_score(predictions_c3d_lasso, y_test)"
      ],
      "execution_count": 40,
      "outputs": [
        {
          "output_type": "stream",
          "text": [
            "-0.017883403648563223\n",
            "The Spearman's correlation coefficient is: 0.015\n",
            "The Spearman's correlation coefficient is: -0.004\n"
          ],
          "name": "stdout"
        }
      ]
    },
    {
      "cell_type": "markdown",
      "metadata": {
        "id": "cgObAZAJIvH8",
        "colab_type": "text"
      },
      "source": [
        "**Taking average of LASSO and SVR and RF for C3D**\n"
      ]
    },
    {
      "cell_type": "code",
      "metadata": {
        "id": "NGOaUvt4GpcT",
        "colab_type": "code",
        "outputId": "888e6efc-47bb-4b85-9c4f-d60d5ca5ebbe",
        "colab": {
          "base_uri": "https://localhost:8080/",
          "height": 173
        }
      },
      "source": [
        "predictions_weighted_c3d  = (1/3)*predictions_c3d_lasso + (1/3)*predictions_c3d_svr + (1/3)*predictions_c3d_rf\n",
        "print(predictions_weighted_c3d)\n",
        "Get_score(predictions_weighted_c3d, y_test)"
      ],
      "execution_count": 41,
      "outputs": [
        {
          "output_type": "stream",
          "text": [
            "[[0.84140513 0.78397052]\n",
            " [0.82982892 0.78274636]\n",
            " [0.8263758  0.77046888]\n",
            " ...\n",
            " [0.83779961 0.78678211]\n",
            " [0.83576975 0.77934957]\n",
            " [0.83885634 0.78166396]]\n",
            "The Spearman's correlation coefficient is: 0.009\n",
            "The Spearman's correlation coefficient is: 0.031\n"
          ],
          "name": "stdout"
        }
      ]
    },
    {
      "cell_type": "markdown",
      "metadata": {
        "id": "I0o0CGF45N1m",
        "colab_type": "text"
      },
      "source": [
        "**Taking average of LASSO and SVR for C3D**"
      ]
    },
    {
      "cell_type": "code",
      "metadata": {
        "id": "kvu2t9W95ODW",
        "colab_type": "code",
        "colab": {
          "base_uri": "https://localhost:8080/",
          "height": 173
        },
        "outputId": "f3e86817-54a0-43f8-9816-bda2137c79fd"
      },
      "source": [
        "predictions_weighted_c3d  = (1/2)*predictions_c3d_lasso + (1/2)*predictions_c3d_svr\n",
        "print(predictions_weighted_c3d)\n",
        "Get_score(predictions_weighted_c3d, y_test)"
      ],
      "execution_count": 42,
      "outputs": [
        {
          "output_type": "stream",
          "text": [
            "[[0.82316519 0.77472577]\n",
            " [0.82015089 0.78453455]\n",
            " [0.8200137  0.77070081]\n",
            " ...\n",
            " [0.82306942 0.78436066]\n",
            " [0.82260713 0.77586685]\n",
            " [0.82261202 0.77906594]]\n",
            "The Spearman's correlation coefficient is: 0.019\n",
            "The Spearman's correlation coefficient is: -0.000\n"
          ],
          "name": "stdout"
        }
      ]
    },
    {
      "cell_type": "markdown",
      "metadata": {
        "id": "U4HdM5aw5ORZ",
        "colab_type": "text"
      },
      "source": [
        "**Taking average of RF and SVR for C3D**"
      ]
    },
    {
      "cell_type": "code",
      "metadata": {
        "id": "Xh3xVn7l5OhW",
        "colab_type": "code",
        "colab": {
          "base_uri": "https://localhost:8080/",
          "height": 173
        },
        "outputId": "2e55362a-1fe8-47f7-8dc1-8e00318beada"
      },
      "source": [
        "predictions_weighted_c3d  = (1/2)*predictions_c3d_rf + (1/2)*predictions_c3d_svr\n",
        "print(predictions_weighted_c3d)\n",
        "Get_score(predictions_weighted_c3d, y_test)"
      ],
      "execution_count": 43,
      "outputs": [
        {
          "output_type": "stream",
          "text": [
            "[[0.83092139 0.78640902]\n",
            " [0.8169522  0.77573796]\n",
            " [0.81163661 0.76939746]\n",
            " ...\n",
            " [0.82595373 0.78207131]\n",
            " [0.82322971 0.77910384]\n",
            " [0.82775289 0.7799393 ]]\n",
            "The Spearman's correlation coefficient is: 0.015\n",
            "The Spearman's correlation coefficient is: 0.034\n"
          ],
          "name": "stdout"
        }
      ]
    },
    {
      "cell_type": "markdown",
      "metadata": {
        "id": "wdwl7-Aq5OyN",
        "colab_type": "text"
      },
      "source": [
        "**Taking average of LASSO and RF for C3D**"
      ]
    },
    {
      "cell_type": "code",
      "metadata": {
        "id": "kkKUTUT65PAO",
        "colab_type": "code",
        "colab": {
          "base_uri": "https://localhost:8080/",
          "height": 173
        },
        "outputId": "516bca13-b3a0-4b98-f721-4a5461f7d692"
      },
      "source": [
        "predictions_weighted_c3d  = (1/2)*predictions_c3d_lasso + (1/2)*predictions_c3d_rf\n",
        "print(predictions_weighted_c3d)\n",
        "Get_score(predictions_weighted_c3d, y_test)"
      ],
      "execution_count": 44,
      "outputs": [
        {
          "output_type": "stream",
          "text": [
            "[[0.87012879 0.79077676]\n",
            " [0.85238368 0.78796659]\n",
            " [0.84747709 0.77130835]\n",
            " ...\n",
            " [0.86437569 0.79391435]\n",
            " [0.86147242 0.78307801]\n",
            " [0.86620412 0.78598664]]\n",
            "The Spearman's correlation coefficient is: 0.008\n",
            "The Spearman's correlation coefficient is: 0.031\n"
          ],
          "name": "stdout"
        }
      ]
    },
    {
      "cell_type": "markdown",
      "metadata": {
        "id": "XWEJ71rOG2tE",
        "colab_type": "text"
      },
      "source": [
        "# **Captions + C3D**"
      ]
    },
    {
      "cell_type": "markdown",
      "metadata": {
        "id": "cwjfcm6idR81",
        "colab_type": "text"
      },
      "source": [
        "### **Concatination and preprocessing**"
      ]
    },
    {
      "cell_type": "markdown",
      "metadata": {
        "id": "Dawe8CKTHAkq",
        "colab_type": "text"
      },
      "source": [
        "**Captions and C3D concatination**"
      ]
    },
    {
      "cell_type": "code",
      "metadata": {
        "id": "yHdDkPAFG-IK",
        "colab_type": "code",
        "outputId": "fdee1434-ad81-47ad-ed30-fa923551110d",
        "colab": {
          "base_uri": "https://localhost:8080/",
          "height": 260
        }
      },
      "source": [
        "Caption_C3D = np.concatenate((X_arrseq, C3D_features), axis=1)\n",
        "print(Caption_C3D)\n",
        "print(Caption_C3D.shape)"
      ],
      "execution_count": 45,
      "outputs": [
        {
          "output_type": "stream",
          "text": [
            "[[0.0000000e+00 0.0000000e+00 0.0000000e+00 ... 1.3000000e-06\n",
            "  2.6000000e-06 8.0000000e-08]\n",
            " [0.0000000e+00 0.0000000e+00 0.0000000e+00 ... 1.5000000e-07\n",
            "  8.3000000e-07 1.0600000e-04]\n",
            " [0.0000000e+00 0.0000000e+00 0.0000000e+00 ... 0.0000000e+00\n",
            "  0.0000000e+00 7.1200000e-06]\n",
            " ...\n",
            " [0.0000000e+00 0.0000000e+00 0.0000000e+00 ... 1.0275000e-04\n",
            "  4.0909850e-02 4.4673800e-03]\n",
            " [0.0000000e+00 0.0000000e+00 0.0000000e+00 ... 2.6109700e-02\n",
            "  1.9424398e-01 6.3640000e-05]\n",
            " [0.0000000e+00 0.0000000e+00 0.0000000e+00 ... 6.5269600e-03\n",
            "  5.7053000e-04 4.9473000e-03]]\n",
            "(6000, 5188)\n"
          ],
          "name": "stdout"
        }
      ]
    },
    {
      "cell_type": "markdown",
      "metadata": {
        "id": "QhzbBM59Hp9T",
        "colab_type": "text"
      },
      "source": [
        "**Dividing Captions and C3D into test and train**"
      ]
    },
    {
      "cell_type": "code",
      "metadata": {
        "id": "FnXKlAJcG1Ug",
        "colab_type": "code",
        "outputId": "f35d0515-6a0a-4c99-c539-195f2bcd57ef",
        "colab": {
          "base_uri": "https://localhost:8080/",
          "height": 121
        }
      },
      "source": [
        "y = ground_truth[['short-term_memorability','long-term_memorability']].values # targets\n",
        "X = Caption_C3D\n",
        "X_train, X_test, y_train, y_test = train_test_split(X,y, test_size=0.2, random_state=42) # random state for reproducability\n",
        "print(X.shape)\n",
        "print(y.shape)\n",
        "\n",
        "print('X_train ', X_train.shape)\n",
        "print('X_test  ', X_test.shape)\n",
        "print('Y_train ', y_train.shape)\n",
        "print('Y_test  ', y_test.shape)"
      ],
      "execution_count": 46,
      "outputs": [
        {
          "output_type": "stream",
          "text": [
            "(6000, 5188)\n",
            "(6000, 2)\n",
            "X_train  (4800, 5188)\n",
            "X_test   (1200, 5188)\n",
            "Y_train  (4800, 2)\n",
            "Y_test   (1200, 2)\n"
          ],
          "name": "stdout"
        }
      ]
    },
    {
      "cell_type": "markdown",
      "metadata": {
        "id": "pCcgSvDCdZwD",
        "colab_type": "text"
      },
      "source": [
        "### **Implementing models on C3D and captions individually**"
      ]
    },
    {
      "cell_type": "markdown",
      "metadata": {
        "id": "mGNP5A3fH0Tn",
        "colab_type": "text"
      },
      "source": [
        "**Random Forest on Captions and C3D**"
      ]
    },
    {
      "cell_type": "code",
      "metadata": {
        "id": "1oeOLsrHHgLX",
        "colab_type": "code",
        "outputId": "b0af4772-2c6b-4363-895c-83cf4f1737a6",
        "colab": {
          "base_uri": "https://localhost:8080/",
          "height": 52
        }
      },
      "source": [
        "rf = RandomForestRegressor(n_estimators = 100)\n",
        "model = MultiOutputRegressor(estimator=rf)\n",
        "model.fit(X_train,y_train)\n",
        "#print(model.score(X_test,y_test))\n",
        "predictions_cap_c3d_rf = model.predict(X_test)\n",
        "Get_score(predictions_cap_c3d_rf, y_test)"
      ],
      "execution_count": 50,
      "outputs": [
        {
          "output_type": "stream",
          "text": [
            "The Spearman's correlation coefficient is: 0.334\n",
            "The Spearman's correlation coefficient is: 0.062\n"
          ],
          "name": "stdout"
        }
      ]
    },
    {
      "cell_type": "markdown",
      "metadata": {
        "id": "ImPJh9xgLnJj",
        "colab_type": "text"
      },
      "source": [
        "**SVR on Captions and C3D**"
      ]
    },
    {
      "cell_type": "code",
      "metadata": {
        "id": "Pj08jrtwLncT",
        "colab_type": "code",
        "outputId": "09f10559-17fc-4634-fa9a-a1c60df6b499",
        "colab": {
          "base_uri": "https://localhost:8080/",
          "height": 52
        }
      },
      "source": [
        "svr = SVR()\n",
        "model = MultiOutputRegressor(estimator=svr)\n",
        "model.fit(X_train,y_train)\n",
        "#print(model.score(X_test,y_test))\n",
        "predictions_cap_c3d_svr = model.predict(X_test)\n",
        "Get_score(predictions_cap_c3d_svr, y_test)"
      ],
      "execution_count": 47,
      "outputs": [
        {
          "output_type": "stream",
          "text": [
            "The Spearman's correlation coefficient is: 0.402\n",
            "The Spearman's correlation coefficient is: 0.198\n"
          ],
          "name": "stdout"
        }
      ]
    },
    {
      "cell_type": "markdown",
      "metadata": {
        "id": "RPoiKRtLLyDl",
        "colab_type": "text"
      },
      "source": [
        "**LASSO on Captions and C3D**"
      ]
    },
    {
      "cell_type": "code",
      "metadata": {
        "id": "CY8yBN0oL4yT",
        "colab_type": "code",
        "outputId": "3fcedf3a-b830-46e5-a271-2ea6f6620d1b",
        "colab": {
          "base_uri": "https://localhost:8080/",
          "height": 69
        }
      },
      "source": [
        "from sklearn.linear_model import Lasso\n",
        "ls = Lasso(alpha=1e-5,normalize=True, max_iter=1e5)\n",
        "model = MultiOutputRegressor(estimator=ls)\n",
        "model.fit(X_train,y_train)\n",
        "print(model.score(X_test,y_test))\n",
        "predictions_cap_c3d_lasso = model.predict(X_test)\n",
        "Get_score(predictions_cap_c3d_lasso, y_test)"
      ],
      "execution_count": 48,
      "outputs": [
        {
          "output_type": "stream",
          "text": [
            "-0.07973299542696144\n",
            "The Spearman's correlation coefficient is: 0.399\n",
            "The Spearman's correlation coefficient is: 0.156\n"
          ],
          "name": "stdout"
        }
      ]
    },
    {
      "cell_type": "markdown",
      "metadata": {
        "id": "8thnmg7I7pU1",
        "colab_type": "text"
      },
      "source": [
        "**Ensambling results of LASSO and SVR and RF for Captions and C3D**"
      ]
    },
    {
      "cell_type": "code",
      "metadata": {
        "id": "w-VstBnw7pkq",
        "colab_type": "code",
        "colab": {
          "base_uri": "https://localhost:8080/",
          "height": 173
        },
        "outputId": "bfcefb66-095a-4df4-d9ae-613064b2c8ef"
      },
      "source": [
        "predictions_weighted_cap_c3d_2  = (1/3)*predictions_cap_c3d_svr + (1/3)*predictions_cap_c3d_lasso + (1/3)*predictions_cap_c3d_rf\n",
        "print(predictions_weighted_cap_c3d_2)\n",
        "Get_score(predictions_weighted_cap_c3d_2, y_test)"
      ],
      "execution_count": 51,
      "outputs": [
        {
          "output_type": "stream",
          "text": [
            "[[0.86194844 0.78942889]\n",
            " [0.86034558 0.78532411]\n",
            " [0.86776621 0.81361511]\n",
            " ...\n",
            " [0.87891308 0.87062317]\n",
            " [0.86644828 0.77682304]\n",
            " [0.85684908 0.74187301]]\n",
            "The Spearman's correlation coefficient is: 0.431\n",
            "The Spearman's correlation coefficient is: 0.182\n"
          ],
          "name": "stdout"
        }
      ]
    },
    {
      "cell_type": "markdown",
      "metadata": {
        "id": "yI7LZJc2NFWu",
        "colab_type": "text"
      },
      "source": [
        "**Ensambling results of LASSO and SVR for Captions and C3D**"
      ]
    },
    {
      "cell_type": "code",
      "metadata": {
        "id": "9X3A86I0NEDf",
        "colab_type": "code",
        "outputId": "b406c803-fe71-4f9b-a787-ae094d0281ea",
        "colab": {
          "base_uri": "https://localhost:8080/",
          "height": 173
        }
      },
      "source": [
        "predictions_weighted_cap_c3d_2  = (1/2)*predictions_cap_c3d_svr + (1/2)*predictions_cap_c3d_lasso\n",
        "print(predictions_weighted_cap_c3d_2)\n",
        "Get_score(predictions_weighted_cap_c3d_2, y_test)"
      ],
      "execution_count": 49,
      "outputs": [
        {
          "output_type": "stream",
          "text": [
            "[[0.87901766 0.78790833]\n",
            " [0.86855336 0.80155116]\n",
            " [0.87629932 0.84431267]\n",
            " ...\n",
            " [0.88536961 0.90123976]\n",
            " [0.86289242 0.78248455]\n",
            " [0.85678862 0.73274951]]\n",
            "The Spearman's correlation coefficient is: 0.429\n",
            "The Spearman's correlation coefficient is: 0.188\n"
          ],
          "name": "stdout"
        }
      ]
    },
    {
      "cell_type": "markdown",
      "metadata": {
        "id": "n9JLeYfp7cBS",
        "colab_type": "text"
      },
      "source": [
        "**Ensambling results of LASSO and RF for Captions and C3D**"
      ]
    },
    {
      "cell_type": "code",
      "metadata": {
        "id": "C5SjrVxS7cQu",
        "colab_type": "code",
        "colab": {
          "base_uri": "https://localhost:8080/",
          "height": 173
        },
        "outputId": "9678d1e6-d9b0-4741-8289-a025b97cfc34"
      },
      "source": [
        "predictions_weighted_cap_c3d_2  = (1/2)*predictions_cap_c3d_rf + (1/2)*predictions_cap_c3d_lasso\n",
        "print(predictions_weighted_cap_c3d_2)\n",
        "Get_score(predictions_weighted_cap_c3d_2, y_test)"
      ],
      "execution_count": 52,
      "outputs": [
        {
          "output_type": "stream",
          "text": [
            "[[0.87301592 0.78893583]\n",
            " [0.86501788 0.77204302]\n",
            " [0.87910082 0.80829101]\n",
            " ...\n",
            " [0.89141078 0.89236402]\n",
            " [0.87096892 0.76891627]\n",
            " [0.86182569 0.73508943]]\n",
            "The Spearman's correlation coefficient is: 0.412\n",
            "The Spearman's correlation coefficient is: 0.151\n"
          ],
          "name": "stdout"
        }
      ]
    },
    {
      "cell_type": "markdown",
      "metadata": {
        "id": "fJyD9I0K7cg6",
        "colab_type": "text"
      },
      "source": [
        "**Ensambling results of RF and SVR for Captions and C3D**"
      ]
    },
    {
      "cell_type": "code",
      "metadata": {
        "id": "D-f9hoCB7cxh",
        "colab_type": "code",
        "colab": {
          "base_uri": "https://localhost:8080/",
          "height": 173
        },
        "outputId": "587aa8f7-93da-490a-e037-05e25a7953c1"
      },
      "source": [
        "predictions_weighted_cap_c3d_2  = (1/2)*predictions_cap_c3d_rf + (1/2)*predictions_cap_c3d_svr\n",
        "print(predictions_weighted_cap_c3d_2)\n",
        "Get_score(predictions_weighted_cap_c3d_2, y_test)"
      ],
      "execution_count": 53,
      "outputs": [
        {
          "output_type": "stream",
          "text": [
            "[[0.83381173 0.79144249]\n",
            " [0.84746548 0.78237814]\n",
            " [0.8478985  0.78824166]\n",
            " ...\n",
            " [0.85995883 0.81826575]\n",
            " [0.8654835  0.77906828]\n",
            " [0.85193292 0.75778008]]\n",
            "The Spearman's correlation coefficient is: 0.403\n",
            "The Spearman's correlation coefficient is: 0.178\n"
          ],
          "name": "stdout"
        }
      ]
    },
    {
      "cell_type": "markdown",
      "metadata": {
        "id": "LJpW8ZikNqGc",
        "colab_type": "text"
      },
      "source": [
        "# **Final Result - Test Dataset**\n"
      ]
    },
    {
      "cell_type": "markdown",
      "metadata": {
        "id": "M39HnqkRdqXc",
        "colab_type": "text"
      },
      "source": [
        "### **Getting C3D Test Data and Preprocessing**"
      ]
    },
    {
      "cell_type": "markdown",
      "metadata": {
        "id": "i1-ZyIeXR_Qu",
        "colab_type": "text"
      },
      "source": [
        "**Getting Testing Dataset of C3D Features**\n"
      ]
    },
    {
      "cell_type": "code",
      "metadata": {
        "id": "6TlT_nsrR_3S",
        "colab_type": "code",
        "colab": {}
      },
      "source": [
        "os.chdir('/content/drive/My Drive/CA684_Assignment/Test-set/')"
      ],
      "execution_count": 0,
      "outputs": []
    },
    {
      "cell_type": "code",
      "metadata": {
        "id": "8EdAJSbZSlwW",
        "colab_type": "code",
        "colab": {}
      },
      "source": [
        "C3D_feature_test_list= []\n",
        "video_names_test_list = []\n",
        "for filename in glob.glob('C3D_test/*.txt'):\n",
        "    name = ((filename.split('/')[-1]).split('.')[0]+'.webm')\n",
        "    video_names_test_list.append(name)\n",
        "    C3D_features_test = read_C3D(filename)\n",
        "    C3D_feature_test_list.append(C3D_features_test)\n",
        "\n",
        "C3D_features_test = pd.DataFrame(np.array(C3D_feature_test_list).reshape(2000,101))\n"
      ],
      "execution_count": 0,
      "outputs": []
    },
    {
      "cell_type": "code",
      "metadata": {
        "id": "nfZRvWW6SL1R",
        "colab_type": "code",
        "outputId": "1b3a8bff-e6ce-4789-c609-f5f1e79232ad",
        "colab": {
          "base_uri": "https://localhost:8080/",
          "height": 260
        }
      },
      "source": [
        "C3D_test_features = C3D_features_test.values\n",
        "print(C3D_test_features)\n",
        "print(C3D_test_features.shape)"
      ],
      "execution_count": 59,
      "outputs": [
        {
          "output_type": "stream",
          "text": [
            "[[3.5262400e-03 1.3763600e-03 4.6187050e-02 ... 5.0880000e-05\n",
            "  6.6530000e-05 6.8281257e-01]\n",
            " [7.7715900e-03 2.3021500e-03 3.6714600e-03 ... 1.7517360e-02\n",
            "  6.6693252e-01 2.8582300e-03]\n",
            " [1.5729500e-03 1.3980800e-03 7.1722990e-02 ... 3.3770000e-05\n",
            "  8.3744000e-04 8.0448484e-01]\n",
            " ...\n",
            " [2.1110000e-04 5.8155900e-03 2.3340000e-04 ... 3.2178000e-04\n",
            "  6.9276000e-04 1.3163320e-02]\n",
            " [2.1449800e-03 3.5880870e-02 2.3955000e-04 ... 1.4710000e-05\n",
            "  1.1600000e-06 7.4280000e-04]\n",
            " [1.0272900e-03 8.8060000e-05 1.0535000e-04 ... 6.9846000e-04\n",
            "  4.9600000e-06 4.1440000e-05]]\n",
            "(2000, 101)\n"
          ],
          "name": "stdout"
        }
      ]
    },
    {
      "cell_type": "markdown",
      "metadata": {
        "id": "Q0YaK6lXcBtz",
        "colab_type": "text"
      },
      "source": [
        "**Merging C3D Developement and Test Datasets**"
      ]
    },
    {
      "cell_type": "code",
      "metadata": {
        "id": "9CeTEgUXb1nC",
        "colab_type": "code",
        "outputId": "e20e302b-727f-4aeb-d12e-78aa67c446e5",
        "colab": {
          "base_uri": "https://localhost:8080/",
          "height": 295
        }
      },
      "source": [
        "C3D_dataset = pd.concat([C3D_features, C3D_features_test], ignore_index=True)\n",
        "print(C3D_dataset.head())\n",
        "print(C3D_dataset.tail())"
      ],
      "execution_count": 60,
      "outputs": [
        {
          "output_type": "stream",
          "text": [
            "        0         1         2    ...           98            99            100\n",
            "0  0.010858  0.010386  0.000000  ...  1.300000e-06  2.600000e-06  8.000000e-08\n",
            "1  0.000200  0.000065  0.993807  ...  1.500000e-07  8.300000e-07  1.060000e-04\n",
            "2  0.000000  0.000000  0.000000  ...  0.000000e+00  0.000000e+00  7.120000e-06\n",
            "3  0.005959  0.004765  0.003757  ...  8.422000e-05  1.159825e-02  1.155040e-03\n",
            "4  0.005782  0.000306  0.004011  ...  1.271750e-03  4.862200e-04  1.965000e-05\n",
            "\n",
            "[5 rows x 101 columns]\n",
            "           0         1         2    ...       98        99        100\n",
            "7995  0.000004  0.000013  0.001774  ...  0.000002  0.000035  0.001458\n",
            "7996  0.000250  0.000228  0.000109  ...  0.000040  0.000471  0.002141\n",
            "7997  0.000211  0.005816  0.000233  ...  0.000322  0.000693  0.013163\n",
            "7998  0.002145  0.035881  0.000240  ...  0.000015  0.000001  0.000743\n",
            "7999  0.001027  0.000088  0.000105  ...  0.000698  0.000005  0.000041\n",
            "\n",
            "[5 rows x 101 columns]\n"
          ],
          "name": "stdout"
        }
      ]
    },
    {
      "cell_type": "markdown",
      "metadata": {
        "id": "W3EIHJ0Od6XY",
        "colab_type": "text"
      },
      "source": [
        "### **Getting Captions Data and Preprocessing**"
      ]
    },
    {
      "cell_type": "markdown",
      "metadata": {
        "id": "ERHgTnaKQ8jS",
        "colab_type": "text"
      },
      "source": [
        "**Getting Training and Testing Dataset of caption**"
      ]
    },
    {
      "cell_type": "code",
      "metadata": {
        "id": "p1gR3RSIDEh-",
        "colab_type": "code",
        "colab": {
          "base_uri": "https://localhost:8080/",
          "height": 202
        },
        "outputId": "3c1b736f-746d-432a-ab37-45cf7caaf94a"
      },
      "source": [
        "df_cap.head()"
      ],
      "execution_count": 61,
      "outputs": [
        {
          "output_type": "execute_result",
          "data": {
            "text/html": [
              "<div>\n",
              "<style scoped>\n",
              "    .dataframe tbody tr th:only-of-type {\n",
              "        vertical-align: middle;\n",
              "    }\n",
              "\n",
              "    .dataframe tbody tr th {\n",
              "        vertical-align: top;\n",
              "    }\n",
              "\n",
              "    .dataframe thead th {\n",
              "        text-align: right;\n",
              "    }\n",
              "</style>\n",
              "<table border=\"1\" class=\"dataframe\">\n",
              "  <thead>\n",
              "    <tr style=\"text-align: right;\">\n",
              "      <th></th>\n",
              "      <th>video</th>\n",
              "      <th>caption</th>\n",
              "    </tr>\n",
              "  </thead>\n",
              "  <tbody>\n",
              "    <tr>\n",
              "      <th>0</th>\n",
              "      <td>video3.webm</td>\n",
              "      <td>blonde woman massaged tilt</td>\n",
              "    </tr>\n",
              "    <tr>\n",
              "      <th>1</th>\n",
              "      <td>video4.webm</td>\n",
              "      <td>roulette table spinning ball closeup shot</td>\n",
              "    </tr>\n",
              "    <tr>\n",
              "      <th>2</th>\n",
              "      <td>video6.webm</td>\n",
              "      <td>khr gangsters</td>\n",
              "    </tr>\n",
              "    <tr>\n",
              "      <th>3</th>\n",
              "      <td>video8.webm</td>\n",
              "      <td>medical helicopter hovers airport</td>\n",
              "    </tr>\n",
              "    <tr>\n",
              "      <th>4</th>\n",
              "      <td>video10.webm</td>\n",
              "      <td>couple relaxing picnic crane shot</td>\n",
              "    </tr>\n",
              "  </tbody>\n",
              "</table>\n",
              "</div>"
            ],
            "text/plain": [
              "          video                                    caption\n",
              "0   video3.webm                 blonde woman massaged tilt\n",
              "1   video4.webm  roulette table spinning ball closeup shot\n",
              "2   video6.webm                              khr gangsters\n",
              "3   video8.webm          medical helicopter hovers airport\n",
              "4  video10.webm          couple relaxing picnic crane shot"
            ]
          },
          "metadata": {
            "tags": []
          },
          "execution_count": 61
        }
      ]
    },
    {
      "cell_type": "code",
      "metadata": {
        "id": "G2Eb72tgNncu",
        "colab_type": "code",
        "outputId": "95d29978-900a-4add-84bc-415defc90f85",
        "colab": {
          "base_uri": "https://localhost:8080/",
          "height": 121
        }
      },
      "source": [
        "# load labels and captions\n",
        "def read_caps(fname):\n",
        "    \"\"\"Load the captions into a dataframe\"\"\"\n",
        "    vn = []\n",
        "    cap = []\n",
        "    df = pd.DataFrame();\n",
        "    with open(fname) as f:\n",
        "        for line in f:\n",
        "            pairs = line.split()\n",
        "            vn.append(pairs[0])\n",
        "            cap.append(pairs[1])\n",
        "        df['video']=vn\n",
        "        df['caption']=cap\n",
        "    return df\n",
        "\n",
        "\n",
        "# load the captions\n",
        "cap_test_path = './Captions_test/test-set-1_video-captions.txt'\n",
        "df_cap_test=read_caps(cap_test_path)\n",
        "print(df_cap_test.tail())"
      ],
      "execution_count": 62,
      "outputs": [
        {
          "output_type": "stream",
          "text": [
            "                video                                            caption\n",
            "1995  video10004.webm  astronaut-in-outer-space-against-the-backdrop-...\n",
            "1996  video10005.webm  young-women-lying-on-sunbed-and-applying-sun-c...\n",
            "1997  video10006.webm  doctor-talking-to-patient-using-a-tablet-to-ex...\n",
            "1998  video10007.webm  businessman-sitting-on-the-beach-on-inflatable...\n",
            "1999  video10008.webm  woman-eating-ice-cream-and-sitting-in-the-stre...\n"
          ],
          "name": "stdout"
        }
      ]
    },
    {
      "cell_type": "code",
      "metadata": {
        "id": "BtI4vxWFRS1I",
        "colab_type": "code",
        "outputId": "70115ce5-2671-47cc-bd78-c4de1fdb2f0e",
        "colab": {
          "base_uri": "https://localhost:8080/",
          "height": 225
        }
      },
      "source": [
        "Caption_dataset = pd.concat([df_cap, df_cap_test],ignore_index=True)\n",
        "print(Caption_dataset.head())\n",
        "print(Caption_dataset.tail())"
      ],
      "execution_count": 63,
      "outputs": [
        {
          "output_type": "stream",
          "text": [
            "          video                                    caption\n",
            "0   video3.webm                 blonde woman massaged tilt\n",
            "1   video4.webm  roulette table spinning ball closeup shot\n",
            "2   video6.webm                              khr gangsters\n",
            "3   video8.webm          medical helicopter hovers airport\n",
            "4  video10.webm          couple relaxing picnic crane shot\n",
            "                video                                            caption\n",
            "7995  video10004.webm  astronaut-in-outer-space-against-the-backdrop-...\n",
            "7996  video10005.webm  young-women-lying-on-sunbed-and-applying-sun-c...\n",
            "7997  video10006.webm  doctor-talking-to-patient-using-a-tablet-to-ex...\n",
            "7998  video10007.webm  businessman-sitting-on-the-beach-on-inflatable...\n",
            "7999  video10008.webm  woman-eating-ice-cream-and-sitting-in-the-stre...\n"
          ],
          "name": "stdout"
        }
      ]
    },
    {
      "cell_type": "markdown",
      "metadata": {
        "id": "FBRUMncCRb2_",
        "colab_type": "text"
      },
      "source": [
        "**Removing Stopwords from Captions**"
      ]
    },
    {
      "cell_type": "code",
      "metadata": {
        "id": "ytio7k6QRhZK",
        "colab_type": "code",
        "outputId": "3b7d79f2-6078-4b9f-8163-4734c6592243",
        "colab": {
          "base_uri": "https://localhost:8080/",
          "height": 277
        }
      },
      "source": [
        "!pip install PyPrind\n",
        "from string import punctuation\n",
        "import pyprind\n",
        "from collections import Counter\n",
        "import nltk\n",
        "nltk.download(\"stopwords\")\n",
        "from nltk.corpus import stopwords\n",
        "#stopwords = nltk.corpus.stopwords.words('english')\n",
        "stopwords = stopwords.words('english')\n",
        "print(f'Length of Stopwords: {len(stopwords)}')\n",
        "\n",
        "# setup prograss tracker\n",
        "pbar = pyprind.ProgBar(len(Caption_dataset['caption']), title='Counting word occurrences')\n",
        "for i, cap in enumerate(Caption_dataset['caption']):\n",
        "    # replace punctuations with space\n",
        "    # convert words to lower case \n",
        "    text = ''.join([c if c not in punctuation else ' ' for c in cap]).lower()\n",
        "    #removing stopwords\n",
        "    rmv_stopwords= ' '.join([word for word in text.split() if word not in stopwords])\n",
        "    Caption_dataset.loc[i,'caption'] = rmv_stopwords #updating the original captions \n",
        "    pbar.update()\n",
        "\n",
        "print(\"\")\n",
        "print(Caption_dataset.head())\n",
        "print(Caption_dataset.shape)"
      ],
      "execution_count": 64,
      "outputs": [
        {
          "output_type": "stream",
          "text": [
            "Requirement already satisfied: PyPrind in /usr/local/lib/python3.6/dist-packages (2.11.2)\n"
          ],
          "name": "stdout"
        },
        {
          "output_type": "stream",
          "text": [
            "Counting word occurrences\n"
          ],
          "name": "stderr"
        },
        {
          "output_type": "stream",
          "text": [
            "[nltk_data] Downloading package stopwords to /root/nltk_data...\n",
            "[nltk_data]   Package stopwords is already up-to-date!\n",
            "Length of Stopwords: 179\n"
          ],
          "name": "stdout"
        },
        {
          "output_type": "stream",
          "text": [
            "0% [##############################] 100% | ETA: 00:00:00\n",
            "Total time elapsed: 00:00:01\n"
          ],
          "name": "stderr"
        },
        {
          "output_type": "stream",
          "text": [
            "\n",
            "          video                                    caption\n",
            "0   video3.webm                 blonde woman massaged tilt\n",
            "1   video4.webm  roulette table spinning ball closeup shot\n",
            "2   video6.webm                              khr gangsters\n",
            "3   video8.webm          medical helicopter hovers airport\n",
            "4  video10.webm          couple relaxing picnic crane shot\n",
            "(8000, 2)\n"
          ],
          "name": "stdout"
        }
      ]
    },
    {
      "cell_type": "markdown",
      "metadata": {
        "id": "QsmSLrHDRnQo",
        "colab_type": "text"
      },
      "source": [
        "**Converting Captions into vector**"
      ]
    },
    {
      "cell_type": "code",
      "metadata": {
        "id": "Q5ivMiPtRrdH",
        "colab_type": "code",
        "outputId": "d9853376-7cb9-464e-95b3-3cc7ed309fa9",
        "colab": {
          "base_uri": "https://localhost:8080/",
          "height": 139
        }
      },
      "source": [
        "from sklearn.feature_extraction.text import CountVectorizer\n",
        "cv_test = CountVectorizer()\n",
        "count_vector_test=cv_test.fit_transform(Caption_dataset['caption'])\n",
        "print(cv_test)\n",
        "\n",
        "Caption_array_dataset=count_vector_test.toarray()\n",
        "print(Caption_array_dataset.shape)"
      ],
      "execution_count": 65,
      "outputs": [
        {
          "output_type": "stream",
          "text": [
            "CountVectorizer(analyzer='word', binary=False, decode_error='strict',\n",
            "                dtype=<class 'numpy.int64'>, encoding='utf-8', input='content',\n",
            "                lowercase=True, max_df=1.0, max_features=None, min_df=1,\n",
            "                ngram_range=(1, 1), preprocessor=None, stop_words=None,\n",
            "                strip_accents=None, token_pattern='(?u)\\\\b\\\\w\\\\w+\\\\b',\n",
            "                tokenizer=None, vocabulary=None)\n",
            "(8000, 5762)\n"
          ],
          "name": "stdout"
        }
      ]
    },
    {
      "cell_type": "markdown",
      "metadata": {
        "id": "JIKQ-7bXV06k",
        "colab_type": "text"
      },
      "source": [
        "**Merging Caption and C3D Features**"
      ]
    },
    {
      "cell_type": "code",
      "metadata": {
        "id": "Eb-78nkUV1K4",
        "colab_type": "code",
        "outputId": "6ed1c736-be6f-4c69-d77d-62d7ee320d06",
        "colab": {
          "base_uri": "https://localhost:8080/",
          "height": 260
        }
      },
      "source": [
        "Caption_C3D_Test = np.concatenate((C3D_dataset, Caption_array_dataset), axis=1)\n",
        "print(Caption_C3D_Test)\n",
        "print(Caption_C3D_Test.shape)"
      ],
      "execution_count": 66,
      "outputs": [
        {
          "output_type": "stream",
          "text": [
            "[[1.085767e-02 1.038633e-02 0.000000e+00 ... 0.000000e+00 0.000000e+00\n",
            "  0.000000e+00]\n",
            " [1.995100e-04 6.494000e-05 9.938069e-01 ... 0.000000e+00 0.000000e+00\n",
            "  0.000000e+00]\n",
            " [0.000000e+00 0.000000e+00 0.000000e+00 ... 0.000000e+00 0.000000e+00\n",
            "  0.000000e+00]\n",
            " ...\n",
            " [2.111000e-04 5.815590e-03 2.334000e-04 ... 0.000000e+00 0.000000e+00\n",
            "  0.000000e+00]\n",
            " [2.144980e-03 3.588087e-02 2.395500e-04 ... 0.000000e+00 0.000000e+00\n",
            "  0.000000e+00]\n",
            " [1.027290e-03 8.806000e-05 1.053500e-04 ... 0.000000e+00 0.000000e+00\n",
            "  0.000000e+00]]\n",
            "(8000, 5863)\n"
          ],
          "name": "stdout"
        }
      ]
    },
    {
      "cell_type": "markdown",
      "metadata": {
        "id": "RTWDlZc_c74l",
        "colab_type": "text"
      },
      "source": [
        "### **Seperating Developement and Test Dataset**"
      ]
    },
    {
      "cell_type": "code",
      "metadata": {
        "id": "yGwExDq6cwzQ",
        "colab_type": "code",
        "outputId": "cc766366-2bf9-4ca5-944e-b3e7d147e9c0",
        "colab": {
          "base_uri": "https://localhost:8080/",
          "height": 69
        }
      },
      "source": [
        "X_train = Caption_C3D_Test[0:6000]\n",
        "X_test = Caption_C3D_Test[6000:]\n",
        "y_train = ground_truth[['short-term_memorability','long-term_memorability']].values\n",
        "\n",
        "print('X_train', X_train.shape)\n",
        "print('X_test', X_test.shape)\n",
        "print('y_train', y_train.shape)"
      ],
      "execution_count": 67,
      "outputs": [
        {
          "output_type": "stream",
          "text": [
            "X_train (6000, 5863)\n",
            "X_test (2000, 5863)\n",
            "y_train (6000, 2)\n"
          ],
          "name": "stdout"
        }
      ]
    },
    {
      "cell_type": "markdown",
      "metadata": {
        "id": "U5puIb_eeGYv",
        "colab_type": "text"
      },
      "source": [
        "### **Implementing and testing Models on C3D and Captions test dataset**"
      ]
    },
    {
      "cell_type": "markdown",
      "metadata": {
        "id": "AcrWQR71dQ-M",
        "colab_type": "text"
      },
      "source": [
        "**SVR Model on Captions + C3d Test Dataset**"
      ]
    },
    {
      "cell_type": "code",
      "metadata": {
        "id": "mpqw5SrsdPGB",
        "colab_type": "code",
        "colab": {}
      },
      "source": [
        "svr = SVR()\n",
        "model = MultiOutputRegressor(estimator=svr)\n",
        "model.fit(X_train,y_train)\n",
        "#print(model.score(X_test,y_test))\n",
        "predictions_cap_c3d_svr_test = model.predict(X_test)\n",
        "#Get_score(predictions_cap_c3d_svr_test, y_test)"
      ],
      "execution_count": 0,
      "outputs": []
    },
    {
      "cell_type": "markdown",
      "metadata": {
        "id": "0wj01dUKdmzw",
        "colab_type": "text"
      },
      "source": [
        "**Random Forest Model on Captions + C3d Test Dataset**"
      ]
    },
    {
      "cell_type": "code",
      "metadata": {
        "id": "P_oe-n9ldkpP",
        "colab_type": "code",
        "colab": {}
      },
      "source": [
        "rf = RandomForestRegressor()\n",
        "model = MultiOutputRegressor(estimator=rf)\n",
        "model.fit(X_train,y_train)\n",
        "#print(model.score(X_test,y_test))\n",
        "predictions_cap_c3d_rf_test = model.predict(X_test)\n",
        "#Get_score(predictions_cap_c3d_rf_test, y_test)"
      ],
      "execution_count": 0,
      "outputs": []
    },
    {
      "cell_type": "markdown",
      "metadata": {
        "id": "aahibEOdm8of",
        "colab_type": "text"
      },
      "source": [
        "**LASSO Model on Captions + C3d Test Dataset**"
      ]
    },
    {
      "cell_type": "code",
      "metadata": {
        "id": "NfiRgNu5mM9Y",
        "colab_type": "code",
        "colab": {}
      },
      "source": [
        "from sklearn.linear_model import Lasso\n",
        "ls = Lasso(alpha=1e-5,normalize=True, max_iter=1e5)\n",
        "model = MultiOutputRegressor(estimator=ls)\n",
        "model.fit(X_train,y_train)\n",
        "#print(model.score(X_test,Y_test))\n",
        "predictions_cap_c3d_lasso_test = model.predict(X_test)\n",
        "#Get_score(predictions_cap_c3d_lasso_test, y_test)"
      ],
      "execution_count": 0,
      "outputs": []
    },
    {
      "cell_type": "markdown",
      "metadata": {
        "id": "b2-IdDpknrLx",
        "colab_type": "text"
      },
      "source": [
        "**Ensambling results of LASSO and SVR for Captions + C3D on Test Dataset**"
      ]
    },
    {
      "cell_type": "code",
      "metadata": {
        "id": "kknDpGJEnrZ1",
        "colab_type": "code",
        "outputId": "8aac7590-b733-4e01-c5e8-af81f119fb11",
        "colab": {
          "base_uri": "https://localhost:8080/",
          "height": 139
        }
      },
      "source": [
        "predictions_weighted_cap_c3d_test_LS  = (1/2)*predictions_cap_c3d_lasso_test + (1/2)*predictions_cap_c3d_svr_test\n",
        "print(predictions_weighted_cap_c3d_test_LS)"
      ],
      "execution_count": 73,
      "outputs": [
        {
          "output_type": "stream",
          "text": [
            "[[0.83252636 0.79077252]\n",
            " [0.79278599 0.78819937]\n",
            " [0.8918482  0.86130627]\n",
            " ...\n",
            " [0.87294758 0.78954006]\n",
            " [0.89381662 0.84859123]\n",
            " [0.88449117 0.79860371]]\n"
          ],
          "name": "stdout"
        }
      ]
    },
    {
      "cell_type": "markdown",
      "metadata": {
        "id": "t92a7eTqQGNx",
        "colab_type": "text"
      },
      "source": [
        "**Ensambling results of LASSO and RF for Captions + C3D on Test Dataset**"
      ]
    },
    {
      "cell_type": "code",
      "metadata": {
        "id": "PINNcQPJQDX7",
        "colab_type": "code",
        "colab": {
          "base_uri": "https://localhost:8080/",
          "height": 139
        },
        "outputId": "22698576-e728-46a8-fba4-09bf39cb3bf6"
      },
      "source": [
        "predictions_weighted_cap_c3d_test_LR  = (1/2)*predictions_cap_c3d_lasso_test + (1/2)*predictions_cap_c3d_rf_test\n",
        "print(predictions_weighted_cap_c3d_test_LR)"
      ],
      "execution_count": 74,
      "outputs": [
        {
          "output_type": "stream",
          "text": [
            "[[0.8527453  0.78495859]\n",
            " [0.7813946  0.79940931]\n",
            " [0.91108879 0.83389429]\n",
            " ...\n",
            " [0.87431821 0.79051885]\n",
            " [0.90659443 0.82111307]\n",
            " [0.89078685 0.81878415]]\n"
          ],
          "name": "stdout"
        }
      ]
    },
    {
      "cell_type": "markdown",
      "metadata": {
        "id": "34bJvSuFQjLf",
        "colab_type": "text"
      },
      "source": [
        "**Ensambling results of SRF and RF for Captions + C3D on Test Dataset**"
      ]
    },
    {
      "cell_type": "code",
      "metadata": {
        "id": "yaV4GpuhQjYw",
        "colab_type": "code",
        "colab": {
          "base_uri": "https://localhost:8080/",
          "height": 139
        },
        "outputId": "fcf2fd90-e106-42c5-cd3c-b35cf55228c1"
      },
      "source": [
        "predictions_weighted_cap_c3d_test_SR  = (1/2)*predictions_cap_c3d_svr_test + (1/2)*predictions_cap_c3d_rf_test\n",
        "print(predictions_weighted_cap_c3d_test_SR)"
      ],
      "execution_count": 75,
      "outputs": [
        {
          "output_type": "stream",
          "text": [
            "[[0.84019106 0.77445393]\n",
            " [0.8090114  0.80486007]\n",
            " [0.87672941 0.78820198]\n",
            " ...\n",
            " [0.87596936 0.75914121]\n",
            " [0.87457219 0.79176816]\n",
            " [0.87369432 0.82155956]]\n"
          ],
          "name": "stdout"
        }
      ]
    },
    {
      "cell_type": "markdown",
      "metadata": {
        "id": "kaSliKIcQ3s-",
        "colab_type": "text"
      },
      "source": [
        "**Ensambling results of LASSO,SRF and RF for Captions + C3D on Test Dataset**"
      ]
    },
    {
      "cell_type": "code",
      "metadata": {
        "id": "FQj0yFuqQ1r8",
        "colab_type": "code",
        "colab": {
          "base_uri": "https://localhost:8080/",
          "height": 139
        },
        "outputId": "d9be9b57-1d01-46da-d402-656efa25d4e2"
      },
      "source": [
        "predictions_weighted_cap_c3d_test_all  = (1/3)*predictions_cap_c3d_svr_test + (1/3)*predictions_cap_c3d_rf_test + (1/3)*predictions_cap_c3d_lasso_test\n",
        "print(predictions_weighted_cap_c3d_test_all)"
      ],
      "execution_count": 77,
      "outputs": [
        {
          "output_type": "stream",
          "text": [
            "[[0.84182091 0.78339502]\n",
            " [0.79439733 0.79748958]\n",
            " [0.89322214 0.82780085]\n",
            " ...\n",
            " [0.87441172 0.77973337]\n",
            " [0.89166108 0.82049082]\n",
            " [0.88299078 0.81298248]]\n"
          ],
          "name": "stdout"
        }
      ]
    },
    {
      "cell_type": "markdown",
      "metadata": {
        "id": "qtJ8kzTGsXCl",
        "colab_type": "text"
      },
      "source": [
        "**Ensambled results with LASSO**"
      ]
    },
    {
      "cell_type": "code",
      "metadata": {
        "id": "pSXAOHDophP9",
        "colab_type": "code",
        "outputId": "3225392f-966b-4888-e467-16a0de4a2527",
        "colab": {
          "base_uri": "https://localhost:8080/",
          "height": 52
        }
      },
      "source": [
        "Get_score(predictions_cap_c3d_lasso_test, predictions_weighted_cap_c3d_test_all)"
      ],
      "execution_count": 78,
      "outputs": [
        {
          "output_type": "stream",
          "text": [
            "The Spearman's correlation coefficient is: 0.907\n",
            "The Spearman's correlation coefficient is: 0.898\n"
          ],
          "name": "stdout"
        }
      ]
    },
    {
      "cell_type": "markdown",
      "metadata": {
        "id": "ucJO3SYdsstP",
        "colab_type": "text"
      },
      "source": [
        "**Ensambled results with SVR**"
      ]
    },
    {
      "cell_type": "code",
      "metadata": {
        "id": "sz245GIAprzI",
        "colab_type": "code",
        "outputId": "adab91de-8d44-4f6f-dc39-638fc9daeb91",
        "colab": {
          "base_uri": "https://localhost:8080/",
          "height": 52
        }
      },
      "source": [
        "Get_score(predictions_cap_c3d_svr_test, predictions_weighted_cap_c3d_test_all)"
      ],
      "execution_count": 79,
      "outputs": [
        {
          "output_type": "stream",
          "text": [
            "The Spearman's correlation coefficient is: 0.880\n",
            "The Spearman's correlation coefficient is: 0.858\n"
          ],
          "name": "stdout"
        }
      ]
    },
    {
      "cell_type": "markdown",
      "metadata": {
        "id": "2XVJnr3wRUD0",
        "colab_type": "text"
      },
      "source": [
        "**Ensambled results with RF**"
      ]
    },
    {
      "cell_type": "code",
      "metadata": {
        "id": "I_9m5ik4RUR6",
        "colab_type": "code",
        "colab": {
          "base_uri": "https://localhost:8080/",
          "height": 52
        },
        "outputId": "4b3855a3-f474-410a-80b3-779ef6346a2a"
      },
      "source": [
        "Get_score(predictions_cap_c3d_rf_test, predictions_weighted_cap_c3d_test_all)"
      ],
      "execution_count": 80,
      "outputs": [
        {
          "output_type": "stream",
          "text": [
            "The Spearman's correlation coefficient is: 0.824\n",
            "The Spearman's correlation coefficient is: 0.568\n"
          ],
          "name": "stdout"
        }
      ]
    },
    {
      "cell_type": "markdown",
      "metadata": {
        "id": "lWL5mabbs3we",
        "colab_type": "text"
      },
      "source": [
        "**Exporting Results to .csv file**"
      ]
    },
    {
      "cell_type": "code",
      "metadata": {
        "id": "rQSz03paS1pW",
        "colab_type": "code",
        "colab": {}
      },
      "source": [
        "df_result = pd.DataFrame(predictions_weighted_cap_c3d_test_all, columns=['short-term_memorability','long-term_memorability'])\n",
        "df_result.to_csv('/content/drive/My Drive/Machine Learning/Apurva_Saswadkar_19210067_Predictions.csv',index=None)"
      ],
      "execution_count": 0,
      "outputs": []
    },
    {
      "cell_type": "code",
      "metadata": {
        "id": "zBRiq4Nsrb1f",
        "colab_type": "code",
        "outputId": "fb74462f-3f0d-4f3f-e868-8bedfc28729e",
        "colab": {
          "base_uri": "https://localhost:8080/",
          "height": 202
        }
      },
      "source": [
        "Predictions_Cap_C3D_Test = pd.read_csv('/content/drive/My Drive/Machine Learning/Predictions_Cap_C3D.csv',header=None)\n",
        "Predictions_Cap_C3D_Test.head()"
      ],
      "execution_count": 0,
      "outputs": [
        {
          "output_type": "execute_result",
          "data": {
            "text/html": [
              "<div>\n",
              "<style scoped>\n",
              "    .dataframe tbody tr th:only-of-type {\n",
              "        vertical-align: middle;\n",
              "    }\n",
              "\n",
              "    .dataframe tbody tr th {\n",
              "        vertical-align: top;\n",
              "    }\n",
              "\n",
              "    .dataframe thead th {\n",
              "        text-align: right;\n",
              "    }\n",
              "</style>\n",
              "<table border=\"1\" class=\"dataframe\">\n",
              "  <thead>\n",
              "    <tr style=\"text-align: right;\">\n",
              "      <th></th>\n",
              "      <th>0</th>\n",
              "      <th>1</th>\n",
              "    </tr>\n",
              "  </thead>\n",
              "  <tbody>\n",
              "    <tr>\n",
              "      <th>0</th>\n",
              "      <td>0.860510</td>\n",
              "      <td>0.803184</td>\n",
              "    </tr>\n",
              "    <tr>\n",
              "      <th>1</th>\n",
              "      <td>0.847700</td>\n",
              "      <td>0.778529</td>\n",
              "    </tr>\n",
              "    <tr>\n",
              "      <th>2</th>\n",
              "      <td>0.842546</td>\n",
              "      <td>0.708117</td>\n",
              "    </tr>\n",
              "    <tr>\n",
              "      <th>3</th>\n",
              "      <td>0.876340</td>\n",
              "      <td>0.881570</td>\n",
              "    </tr>\n",
              "    <tr>\n",
              "      <th>4</th>\n",
              "      <td>0.798642</td>\n",
              "      <td>0.595775</td>\n",
              "    </tr>\n",
              "  </tbody>\n",
              "</table>\n",
              "</div>"
            ],
            "text/plain": [
              "          0         1\n",
              "0  0.860510  0.803184\n",
              "1  0.847700  0.778529\n",
              "2  0.842546  0.708117\n",
              "3  0.876340  0.881570\n",
              "4  0.798642  0.595775"
            ]
          },
          "metadata": {
            "tags": []
          },
          "execution_count": 123
        }
      ]
    }
  ]
}